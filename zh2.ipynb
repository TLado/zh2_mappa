{
    "metadata": {
        "kernelspec": {
            "name": "SQL",
            "display_name": "SQL",
            "language": "sql"
        },
        "language_info": {
            "name": "sql",
            "version": ""
        }
    },
    "nbformat_minor": 2,
    "nbformat": 4,
    "cells": [
        {
            "cell_type": "markdown",
            "source": [
                "Készítsen lekérdezést, amely megjeleníti, hogy szobánként (SZOBA\\_FK) hány olyan foglalás történt, ahol a felnőttek száma nagyobb volt a gyermekek számánál!\n",
                "\n",
                "a. A lekérdezés jelenítse meg a végösszeget is megfelelően jelölve!"
            ],
            "metadata": {
                "azdata_cell_guid": "6510f580-90f1-4b8c-8af8-0bcfbdc9400c"
            },
            "attachments": {}
        },
        {
            "cell_type": "code",
            "source": [
                "SELECT (   \r\n",
                "    CASE GROUPING(Szoba_fk)\r\n",
                "    WHEN 0 THEN CAST(Szoba_fk AS nvarchar)\r\n",
                "    WHEN 1 THEN 'Összesen' END\r\n",
                ") AS 'Szoba_FK', \r\n",
                "        Count(*) AS 'Darabszám'\r\n",
                "FROM foglalas\r\n",
                "WHERE Felnott_szam > gyermek_szam\r\n",
                "GROUP BY Rollup(Szoba_fk)"
            ],
            "metadata": {
                "azdata_cell_guid": "3f30f433-e527-4278-a430-c652630802d1",
                "language": "sql"
            },
            "outputs": [
                {
                    "output_type": "display_data",
                    "data": {
                        "text/html": "(190 rows affected)"
                    },
                    "metadata": {}
                },
                {
                    "output_type": "display_data",
                    "data": {
                        "text/html": "Total execution time: 00:00:00.013"
                    },
                    "metadata": {}
                },
                {
                    "output_type": "execute_result",
                    "metadata": {},
                    "execution_count": 4,
                    "data": {
                        "application/vnd.dataresource+json": {
                            "schema": {
                                "fields": [
                                    {
                                        "name": "Szoba_FK"
                                    },
                                    {
                                        "name": "Darabszám"
                                    }
                                ]
                            },
                            "data": [
                                {
                                    "Szoba_FK": "1",
                                    "Darabszám": "7"
                                },
                                {
                                    "Szoba_FK": "2",
                                    "Darabszám": "2"
                                },
                                {
                                    "Szoba_FK": "3",
                                    "Darabszám": "3"
                                },
                                {
                                    "Szoba_FK": "4",
                                    "Darabszám": "5"
                                },
                                {
                                    "Szoba_FK": "5",
                                    "Darabszám": "2"
                                },
                                {
                                    "Szoba_FK": "6",
                                    "Darabszám": "5"
                                },
                                {
                                    "Szoba_FK": "7",
                                    "Darabszám": "6"
                                },
                                {
                                    "Szoba_FK": "8",
                                    "Darabszám": "5"
                                },
                                {
                                    "Szoba_FK": "9",
                                    "Darabszám": "4"
                                },
                                {
                                    "Szoba_FK": "10",
                                    "Darabszám": "4"
                                },
                                {
                                    "Szoba_FK": "11",
                                    "Darabszám": "4"
                                },
                                {
                                    "Szoba_FK": "12",
                                    "Darabszám": "7"
                                },
                                {
                                    "Szoba_FK": "13",
                                    "Darabszám": "4"
                                },
                                {
                                    "Szoba_FK": "14",
                                    "Darabszám": "3"
                                },
                                {
                                    "Szoba_FK": "15",
                                    "Darabszám": "4"
                                },
                                {
                                    "Szoba_FK": "16",
                                    "Darabszám": "1"
                                },
                                {
                                    "Szoba_FK": "17",
                                    "Darabszám": "2"
                                },
                                {
                                    "Szoba_FK": "18",
                                    "Darabszám": "3"
                                },
                                {
                                    "Szoba_FK": "19",
                                    "Darabszám": "4"
                                },
                                {
                                    "Szoba_FK": "20",
                                    "Darabszám": "5"
                                },
                                {
                                    "Szoba_FK": "21",
                                    "Darabszám": "1"
                                },
                                {
                                    "Szoba_FK": "22",
                                    "Darabszám": "2"
                                },
                                {
                                    "Szoba_FK": "23",
                                    "Darabszám": "3"
                                },
                                {
                                    "Szoba_FK": "24",
                                    "Darabszám": "3"
                                },
                                {
                                    "Szoba_FK": "25",
                                    "Darabszám": "1"
                                },
                                {
                                    "Szoba_FK": "27",
                                    "Darabszám": "5"
                                },
                                {
                                    "Szoba_FK": "28",
                                    "Darabszám": "5"
                                },
                                {
                                    "Szoba_FK": "29",
                                    "Darabszám": "3"
                                },
                                {
                                    "Szoba_FK": "30",
                                    "Darabszám": "2"
                                },
                                {
                                    "Szoba_FK": "31",
                                    "Darabszám": "1"
                                },
                                {
                                    "Szoba_FK": "32",
                                    "Darabszám": "1"
                                },
                                {
                                    "Szoba_FK": "33",
                                    "Darabszám": "3"
                                },
                                {
                                    "Szoba_FK": "34",
                                    "Darabszám": "3"
                                },
                                {
                                    "Szoba_FK": "35",
                                    "Darabszám": "6"
                                },
                                {
                                    "Szoba_FK": "36",
                                    "Darabszám": "4"
                                },
                                {
                                    "Szoba_FK": "37",
                                    "Darabszám": "2"
                                },
                                {
                                    "Szoba_FK": "38",
                                    "Darabszám": "5"
                                },
                                {
                                    "Szoba_FK": "39",
                                    "Darabszám": "4"
                                },
                                {
                                    "Szoba_FK": "40",
                                    "Darabszám": "3"
                                },
                                {
                                    "Szoba_FK": "41",
                                    "Darabszám": "1"
                                },
                                {
                                    "Szoba_FK": "42",
                                    "Darabszám": "5"
                                },
                                {
                                    "Szoba_FK": "43",
                                    "Darabszám": "4"
                                },
                                {
                                    "Szoba_FK": "44",
                                    "Darabszám": "6"
                                },
                                {
                                    "Szoba_FK": "45",
                                    "Darabszám": "4"
                                },
                                {
                                    "Szoba_FK": "46",
                                    "Darabszám": "3"
                                },
                                {
                                    "Szoba_FK": "47",
                                    "Darabszám": "2"
                                },
                                {
                                    "Szoba_FK": "48",
                                    "Darabszám": "6"
                                },
                                {
                                    "Szoba_FK": "49",
                                    "Darabszám": "5"
                                },
                                {
                                    "Szoba_FK": "50",
                                    "Darabszám": "3"
                                },
                                {
                                    "Szoba_FK": "51",
                                    "Darabszám": "3"
                                },
                                {
                                    "Szoba_FK": "52",
                                    "Darabszám": "5"
                                },
                                {
                                    "Szoba_FK": "54",
                                    "Darabszám": "4"
                                },
                                {
                                    "Szoba_FK": "55",
                                    "Darabszám": "3"
                                },
                                {
                                    "Szoba_FK": "56",
                                    "Darabszám": "1"
                                },
                                {
                                    "Szoba_FK": "57",
                                    "Darabszám": "3"
                                },
                                {
                                    "Szoba_FK": "58",
                                    "Darabszám": "8"
                                },
                                {
                                    "Szoba_FK": "59",
                                    "Darabszám": "4"
                                },
                                {
                                    "Szoba_FK": "60",
                                    "Darabszám": "1"
                                },
                                {
                                    "Szoba_FK": "61",
                                    "Darabszám": "4"
                                },
                                {
                                    "Szoba_FK": "62",
                                    "Darabszám": "3"
                                },
                                {
                                    "Szoba_FK": "63",
                                    "Darabszám": "3"
                                },
                                {
                                    "Szoba_FK": "64",
                                    "Darabszám": "5"
                                },
                                {
                                    "Szoba_FK": "66",
                                    "Darabszám": "3"
                                },
                                {
                                    "Szoba_FK": "67",
                                    "Darabszám": "2"
                                },
                                {
                                    "Szoba_FK": "69",
                                    "Darabszám": "2"
                                },
                                {
                                    "Szoba_FK": "70",
                                    "Darabszám": "8"
                                },
                                {
                                    "Szoba_FK": "71",
                                    "Darabszám": "2"
                                },
                                {
                                    "Szoba_FK": "72",
                                    "Darabszám": "2"
                                },
                                {
                                    "Szoba_FK": "73",
                                    "Darabszám": "4"
                                },
                                {
                                    "Szoba_FK": "74",
                                    "Darabszám": "8"
                                },
                                {
                                    "Szoba_FK": "75",
                                    "Darabszám": "2"
                                },
                                {
                                    "Szoba_FK": "76",
                                    "Darabszám": "2"
                                },
                                {
                                    "Szoba_FK": "77",
                                    "Darabszám": "3"
                                },
                                {
                                    "Szoba_FK": "78",
                                    "Darabszám": "3"
                                },
                                {
                                    "Szoba_FK": "79",
                                    "Darabszám": "4"
                                },
                                {
                                    "Szoba_FK": "80",
                                    "Darabszám": "5"
                                },
                                {
                                    "Szoba_FK": "81",
                                    "Darabszám": "3"
                                },
                                {
                                    "Szoba_FK": "82",
                                    "Darabszám": "5"
                                },
                                {
                                    "Szoba_FK": "83",
                                    "Darabszám": "5"
                                },
                                {
                                    "Szoba_FK": "84",
                                    "Darabszám": "3"
                                },
                                {
                                    "Szoba_FK": "85",
                                    "Darabszám": "2"
                                },
                                {
                                    "Szoba_FK": "86",
                                    "Darabszám": "4"
                                },
                                {
                                    "Szoba_FK": "87",
                                    "Darabszám": "5"
                                },
                                {
                                    "Szoba_FK": "88",
                                    "Darabszám": "5"
                                },
                                {
                                    "Szoba_FK": "89",
                                    "Darabszám": "8"
                                },
                                {
                                    "Szoba_FK": "90",
                                    "Darabszám": "3"
                                },
                                {
                                    "Szoba_FK": "91",
                                    "Darabszám": "2"
                                },
                                {
                                    "Szoba_FK": "92",
                                    "Darabszám": "5"
                                },
                                {
                                    "Szoba_FK": "93",
                                    "Darabszám": "3"
                                },
                                {
                                    "Szoba_FK": "94",
                                    "Darabszám": "6"
                                },
                                {
                                    "Szoba_FK": "95",
                                    "Darabszám": "3"
                                },
                                {
                                    "Szoba_FK": "96",
                                    "Darabszám": "6"
                                },
                                {
                                    "Szoba_FK": "97",
                                    "Darabszám": "5"
                                },
                                {
                                    "Szoba_FK": "98",
                                    "Darabszám": "4"
                                },
                                {
                                    "Szoba_FK": "99",
                                    "Darabszám": "4"
                                },
                                {
                                    "Szoba_FK": "100",
                                    "Darabszám": "2"
                                },
                                {
                                    "Szoba_FK": "101",
                                    "Darabszám": "1"
                                },
                                {
                                    "Szoba_FK": "102",
                                    "Darabszám": "1"
                                },
                                {
                                    "Szoba_FK": "103",
                                    "Darabszám": "1"
                                },
                                {
                                    "Szoba_FK": "104",
                                    "Darabszám": "3"
                                },
                                {
                                    "Szoba_FK": "106",
                                    "Darabszám": "4"
                                },
                                {
                                    "Szoba_FK": "107",
                                    "Darabszám": "4"
                                },
                                {
                                    "Szoba_FK": "108",
                                    "Darabszám": "1"
                                },
                                {
                                    "Szoba_FK": "109",
                                    "Darabszám": "2"
                                },
                                {
                                    "Szoba_FK": "110",
                                    "Darabszám": "5"
                                },
                                {
                                    "Szoba_FK": "111",
                                    "Darabszám": "1"
                                },
                                {
                                    "Szoba_FK": "112",
                                    "Darabszám": "4"
                                },
                                {
                                    "Szoba_FK": "113",
                                    "Darabszám": "2"
                                },
                                {
                                    "Szoba_FK": "114",
                                    "Darabszám": "1"
                                },
                                {
                                    "Szoba_FK": "115",
                                    "Darabszám": "5"
                                },
                                {
                                    "Szoba_FK": "117",
                                    "Darabszám": "4"
                                },
                                {
                                    "Szoba_FK": "118",
                                    "Darabszám": "2"
                                },
                                {
                                    "Szoba_FK": "119",
                                    "Darabszám": "4"
                                },
                                {
                                    "Szoba_FK": "120",
                                    "Darabszám": "2"
                                },
                                {
                                    "Szoba_FK": "121",
                                    "Darabszám": "5"
                                },
                                {
                                    "Szoba_FK": "122",
                                    "Darabszám": "3"
                                },
                                {
                                    "Szoba_FK": "123",
                                    "Darabszám": "5"
                                },
                                {
                                    "Szoba_FK": "124",
                                    "Darabszám": "4"
                                },
                                {
                                    "Szoba_FK": "126",
                                    "Darabszám": "4"
                                },
                                {
                                    "Szoba_FK": "127",
                                    "Darabszám": "5"
                                },
                                {
                                    "Szoba_FK": "129",
                                    "Darabszám": "3"
                                },
                                {
                                    "Szoba_FK": "130",
                                    "Darabszám": "5"
                                },
                                {
                                    "Szoba_FK": "131",
                                    "Darabszám": "4"
                                },
                                {
                                    "Szoba_FK": "132",
                                    "Darabszám": "4"
                                },
                                {
                                    "Szoba_FK": "133",
                                    "Darabszám": "4"
                                },
                                {
                                    "Szoba_FK": "134",
                                    "Darabszám": "4"
                                },
                                {
                                    "Szoba_FK": "135",
                                    "Darabszám": "3"
                                },
                                {
                                    "Szoba_FK": "136",
                                    "Darabszám": "2"
                                },
                                {
                                    "Szoba_FK": "137",
                                    "Darabszám": "2"
                                },
                                {
                                    "Szoba_FK": "138",
                                    "Darabszám": "5"
                                },
                                {
                                    "Szoba_FK": "139",
                                    "Darabszám": "6"
                                },
                                {
                                    "Szoba_FK": "140",
                                    "Darabszám": "5"
                                },
                                {
                                    "Szoba_FK": "141",
                                    "Darabszám": "4"
                                },
                                {
                                    "Szoba_FK": "142",
                                    "Darabszám": "1"
                                },
                                {
                                    "Szoba_FK": "143",
                                    "Darabszám": "5"
                                },
                                {
                                    "Szoba_FK": "144",
                                    "Darabszám": "2"
                                },
                                {
                                    "Szoba_FK": "145",
                                    "Darabszám": "2"
                                },
                                {
                                    "Szoba_FK": "146",
                                    "Darabszám": "3"
                                },
                                {
                                    "Szoba_FK": "147",
                                    "Darabszám": "1"
                                },
                                {
                                    "Szoba_FK": "148",
                                    "Darabszám": "5"
                                },
                                {
                                    "Szoba_FK": "149",
                                    "Darabszám": "5"
                                },
                                {
                                    "Szoba_FK": "150",
                                    "Darabszám": "6"
                                },
                                {
                                    "Szoba_FK": "151",
                                    "Darabszám": "2"
                                },
                                {
                                    "Szoba_FK": "152",
                                    "Darabszám": "3"
                                },
                                {
                                    "Szoba_FK": "153",
                                    "Darabszám": "4"
                                },
                                {
                                    "Szoba_FK": "154",
                                    "Darabszám": "3"
                                },
                                {
                                    "Szoba_FK": "155",
                                    "Darabszám": "3"
                                },
                                {
                                    "Szoba_FK": "156",
                                    "Darabszám": "2"
                                },
                                {
                                    "Szoba_FK": "157",
                                    "Darabszám": "2"
                                },
                                {
                                    "Szoba_FK": "158",
                                    "Darabszám": "3"
                                },
                                {
                                    "Szoba_FK": "160",
                                    "Darabszám": "2"
                                },
                                {
                                    "Szoba_FK": "161",
                                    "Darabszám": "3"
                                },
                                {
                                    "Szoba_FK": "162",
                                    "Darabszám": "2"
                                },
                                {
                                    "Szoba_FK": "163",
                                    "Darabszám": "5"
                                },
                                {
                                    "Szoba_FK": "164",
                                    "Darabszám": "4"
                                },
                                {
                                    "Szoba_FK": "165",
                                    "Darabszám": "5"
                                },
                                {
                                    "Szoba_FK": "166",
                                    "Darabszám": "3"
                                },
                                {
                                    "Szoba_FK": "167",
                                    "Darabszám": "2"
                                },
                                {
                                    "Szoba_FK": "168",
                                    "Darabszám": "1"
                                },
                                {
                                    "Szoba_FK": "169",
                                    "Darabszám": "3"
                                },
                                {
                                    "Szoba_FK": "170",
                                    "Darabszám": "3"
                                },
                                {
                                    "Szoba_FK": "171",
                                    "Darabszám": "5"
                                },
                                {
                                    "Szoba_FK": "172",
                                    "Darabszám": "6"
                                },
                                {
                                    "Szoba_FK": "173",
                                    "Darabszám": "3"
                                },
                                {
                                    "Szoba_FK": "174",
                                    "Darabszám": "4"
                                },
                                {
                                    "Szoba_FK": "175",
                                    "Darabszám": "3"
                                },
                                {
                                    "Szoba_FK": "176",
                                    "Darabszám": "2"
                                },
                                {
                                    "Szoba_FK": "177",
                                    "Darabszám": "1"
                                },
                                {
                                    "Szoba_FK": "178",
                                    "Darabszám": "1"
                                },
                                {
                                    "Szoba_FK": "179",
                                    "Darabszám": "2"
                                },
                                {
                                    "Szoba_FK": "180",
                                    "Darabszám": "1"
                                },
                                {
                                    "Szoba_FK": "181",
                                    "Darabszám": "5"
                                },
                                {
                                    "Szoba_FK": "182",
                                    "Darabszám": "11"
                                },
                                {
                                    "Szoba_FK": "183",
                                    "Darabszám": "3"
                                },
                                {
                                    "Szoba_FK": "184",
                                    "Darabszám": "4"
                                },
                                {
                                    "Szoba_FK": "185",
                                    "Darabszám": "10"
                                },
                                {
                                    "Szoba_FK": "186",
                                    "Darabszám": "1"
                                },
                                {
                                    "Szoba_FK": "187",
                                    "Darabszám": "6"
                                },
                                {
                                    "Szoba_FK": "188",
                                    "Darabszám": "2"
                                },
                                {
                                    "Szoba_FK": "189",
                                    "Darabszám": "1"
                                },
                                {
                                    "Szoba_FK": "190",
                                    "Darabszám": "5"
                                },
                                {
                                    "Szoba_FK": "191",
                                    "Darabszám": "3"
                                },
                                {
                                    "Szoba_FK": "192",
                                    "Darabszám": "1"
                                },
                                {
                                    "Szoba_FK": "193",
                                    "Darabszám": "2"
                                },
                                {
                                    "Szoba_FK": "194",
                                    "Darabszám": "1"
                                },
                                {
                                    "Szoba_FK": "195",
                                    "Darabszám": "5"
                                },
                                {
                                    "Szoba_FK": "196",
                                    "Darabszám": "2"
                                },
                                {
                                    "Szoba_FK": "197",
                                    "Darabszám": "6"
                                },
                                {
                                    "Szoba_FK": "198",
                                    "Darabszám": "7"
                                },
                                {
                                    "Szoba_FK": "Összesen",
                                    "Darabszám": "668"
                                }
                            ]
                        },
                        "text/html": [
                            "<table>",
                            "<tr><th>Szoba_FK</th><th>Darabszám</th></tr>",
                            "<tr><td>1</td><td>7</td></tr>",
                            "<tr><td>2</td><td>2</td></tr>",
                            "<tr><td>3</td><td>3</td></tr>",
                            "<tr><td>4</td><td>5</td></tr>",
                            "<tr><td>5</td><td>2</td></tr>",
                            "<tr><td>6</td><td>5</td></tr>",
                            "<tr><td>7</td><td>6</td></tr>",
                            "<tr><td>8</td><td>5</td></tr>",
                            "<tr><td>9</td><td>4</td></tr>",
                            "<tr><td>10</td><td>4</td></tr>",
                            "<tr><td>11</td><td>4</td></tr>",
                            "<tr><td>12</td><td>7</td></tr>",
                            "<tr><td>13</td><td>4</td></tr>",
                            "<tr><td>14</td><td>3</td></tr>",
                            "<tr><td>15</td><td>4</td></tr>",
                            "<tr><td>16</td><td>1</td></tr>",
                            "<tr><td>17</td><td>2</td></tr>",
                            "<tr><td>18</td><td>3</td></tr>",
                            "<tr><td>19</td><td>4</td></tr>",
                            "<tr><td>20</td><td>5</td></tr>",
                            "<tr><td>21</td><td>1</td></tr>",
                            "<tr><td>22</td><td>2</td></tr>",
                            "<tr><td>23</td><td>3</td></tr>",
                            "<tr><td>24</td><td>3</td></tr>",
                            "<tr><td>25</td><td>1</td></tr>",
                            "<tr><td>27</td><td>5</td></tr>",
                            "<tr><td>28</td><td>5</td></tr>",
                            "<tr><td>29</td><td>3</td></tr>",
                            "<tr><td>30</td><td>2</td></tr>",
                            "<tr><td>31</td><td>1</td></tr>",
                            "<tr><td>32</td><td>1</td></tr>",
                            "<tr><td>33</td><td>3</td></tr>",
                            "<tr><td>34</td><td>3</td></tr>",
                            "<tr><td>35</td><td>6</td></tr>",
                            "<tr><td>36</td><td>4</td></tr>",
                            "<tr><td>37</td><td>2</td></tr>",
                            "<tr><td>38</td><td>5</td></tr>",
                            "<tr><td>39</td><td>4</td></tr>",
                            "<tr><td>40</td><td>3</td></tr>",
                            "<tr><td>41</td><td>1</td></tr>",
                            "<tr><td>42</td><td>5</td></tr>",
                            "<tr><td>43</td><td>4</td></tr>",
                            "<tr><td>44</td><td>6</td></tr>",
                            "<tr><td>45</td><td>4</td></tr>",
                            "<tr><td>46</td><td>3</td></tr>",
                            "<tr><td>47</td><td>2</td></tr>",
                            "<tr><td>48</td><td>6</td></tr>",
                            "<tr><td>49</td><td>5</td></tr>",
                            "<tr><td>50</td><td>3</td></tr>",
                            "<tr><td>51</td><td>3</td></tr>",
                            "<tr><td>52</td><td>5</td></tr>",
                            "<tr><td>54</td><td>4</td></tr>",
                            "<tr><td>55</td><td>3</td></tr>",
                            "<tr><td>56</td><td>1</td></tr>",
                            "<tr><td>57</td><td>3</td></tr>",
                            "<tr><td>58</td><td>8</td></tr>",
                            "<tr><td>59</td><td>4</td></tr>",
                            "<tr><td>60</td><td>1</td></tr>",
                            "<tr><td>61</td><td>4</td></tr>",
                            "<tr><td>62</td><td>3</td></tr>",
                            "<tr><td>63</td><td>3</td></tr>",
                            "<tr><td>64</td><td>5</td></tr>",
                            "<tr><td>66</td><td>3</td></tr>",
                            "<tr><td>67</td><td>2</td></tr>",
                            "<tr><td>69</td><td>2</td></tr>",
                            "<tr><td>70</td><td>8</td></tr>",
                            "<tr><td>71</td><td>2</td></tr>",
                            "<tr><td>72</td><td>2</td></tr>",
                            "<tr><td>73</td><td>4</td></tr>",
                            "<tr><td>74</td><td>8</td></tr>",
                            "<tr><td>75</td><td>2</td></tr>",
                            "<tr><td>76</td><td>2</td></tr>",
                            "<tr><td>77</td><td>3</td></tr>",
                            "<tr><td>78</td><td>3</td></tr>",
                            "<tr><td>79</td><td>4</td></tr>",
                            "<tr><td>80</td><td>5</td></tr>",
                            "<tr><td>81</td><td>3</td></tr>",
                            "<tr><td>82</td><td>5</td></tr>",
                            "<tr><td>83</td><td>5</td></tr>",
                            "<tr><td>84</td><td>3</td></tr>",
                            "<tr><td>85</td><td>2</td></tr>",
                            "<tr><td>86</td><td>4</td></tr>",
                            "<tr><td>87</td><td>5</td></tr>",
                            "<tr><td>88</td><td>5</td></tr>",
                            "<tr><td>89</td><td>8</td></tr>",
                            "<tr><td>90</td><td>3</td></tr>",
                            "<tr><td>91</td><td>2</td></tr>",
                            "<tr><td>92</td><td>5</td></tr>",
                            "<tr><td>93</td><td>3</td></tr>",
                            "<tr><td>94</td><td>6</td></tr>",
                            "<tr><td>95</td><td>3</td></tr>",
                            "<tr><td>96</td><td>6</td></tr>",
                            "<tr><td>97</td><td>5</td></tr>",
                            "<tr><td>98</td><td>4</td></tr>",
                            "<tr><td>99</td><td>4</td></tr>",
                            "<tr><td>100</td><td>2</td></tr>",
                            "<tr><td>101</td><td>1</td></tr>",
                            "<tr><td>102</td><td>1</td></tr>",
                            "<tr><td>103</td><td>1</td></tr>",
                            "<tr><td>104</td><td>3</td></tr>",
                            "<tr><td>106</td><td>4</td></tr>",
                            "<tr><td>107</td><td>4</td></tr>",
                            "<tr><td>108</td><td>1</td></tr>",
                            "<tr><td>109</td><td>2</td></tr>",
                            "<tr><td>110</td><td>5</td></tr>",
                            "<tr><td>111</td><td>1</td></tr>",
                            "<tr><td>112</td><td>4</td></tr>",
                            "<tr><td>113</td><td>2</td></tr>",
                            "<tr><td>114</td><td>1</td></tr>",
                            "<tr><td>115</td><td>5</td></tr>",
                            "<tr><td>117</td><td>4</td></tr>",
                            "<tr><td>118</td><td>2</td></tr>",
                            "<tr><td>119</td><td>4</td></tr>",
                            "<tr><td>120</td><td>2</td></tr>",
                            "<tr><td>121</td><td>5</td></tr>",
                            "<tr><td>122</td><td>3</td></tr>",
                            "<tr><td>123</td><td>5</td></tr>",
                            "<tr><td>124</td><td>4</td></tr>",
                            "<tr><td>126</td><td>4</td></tr>",
                            "<tr><td>127</td><td>5</td></tr>",
                            "<tr><td>129</td><td>3</td></tr>",
                            "<tr><td>130</td><td>5</td></tr>",
                            "<tr><td>131</td><td>4</td></tr>",
                            "<tr><td>132</td><td>4</td></tr>",
                            "<tr><td>133</td><td>4</td></tr>",
                            "<tr><td>134</td><td>4</td></tr>",
                            "<tr><td>135</td><td>3</td></tr>",
                            "<tr><td>136</td><td>2</td></tr>",
                            "<tr><td>137</td><td>2</td></tr>",
                            "<tr><td>138</td><td>5</td></tr>",
                            "<tr><td>139</td><td>6</td></tr>",
                            "<tr><td>140</td><td>5</td></tr>",
                            "<tr><td>141</td><td>4</td></tr>",
                            "<tr><td>142</td><td>1</td></tr>",
                            "<tr><td>143</td><td>5</td></tr>",
                            "<tr><td>144</td><td>2</td></tr>",
                            "<tr><td>145</td><td>2</td></tr>",
                            "<tr><td>146</td><td>3</td></tr>",
                            "<tr><td>147</td><td>1</td></tr>",
                            "<tr><td>148</td><td>5</td></tr>",
                            "<tr><td>149</td><td>5</td></tr>",
                            "<tr><td>150</td><td>6</td></tr>",
                            "<tr><td>151</td><td>2</td></tr>",
                            "<tr><td>152</td><td>3</td></tr>",
                            "<tr><td>153</td><td>4</td></tr>",
                            "<tr><td>154</td><td>3</td></tr>",
                            "<tr><td>155</td><td>3</td></tr>",
                            "<tr><td>156</td><td>2</td></tr>",
                            "<tr><td>157</td><td>2</td></tr>",
                            "<tr><td>158</td><td>3</td></tr>",
                            "<tr><td>160</td><td>2</td></tr>",
                            "<tr><td>161</td><td>3</td></tr>",
                            "<tr><td>162</td><td>2</td></tr>",
                            "<tr><td>163</td><td>5</td></tr>",
                            "<tr><td>164</td><td>4</td></tr>",
                            "<tr><td>165</td><td>5</td></tr>",
                            "<tr><td>166</td><td>3</td></tr>",
                            "<tr><td>167</td><td>2</td></tr>",
                            "<tr><td>168</td><td>1</td></tr>",
                            "<tr><td>169</td><td>3</td></tr>",
                            "<tr><td>170</td><td>3</td></tr>",
                            "<tr><td>171</td><td>5</td></tr>",
                            "<tr><td>172</td><td>6</td></tr>",
                            "<tr><td>173</td><td>3</td></tr>",
                            "<tr><td>174</td><td>4</td></tr>",
                            "<tr><td>175</td><td>3</td></tr>",
                            "<tr><td>176</td><td>2</td></tr>",
                            "<tr><td>177</td><td>1</td></tr>",
                            "<tr><td>178</td><td>1</td></tr>",
                            "<tr><td>179</td><td>2</td></tr>",
                            "<tr><td>180</td><td>1</td></tr>",
                            "<tr><td>181</td><td>5</td></tr>",
                            "<tr><td>182</td><td>11</td></tr>",
                            "<tr><td>183</td><td>3</td></tr>",
                            "<tr><td>184</td><td>4</td></tr>",
                            "<tr><td>185</td><td>10</td></tr>",
                            "<tr><td>186</td><td>1</td></tr>",
                            "<tr><td>187</td><td>6</td></tr>",
                            "<tr><td>188</td><td>2</td></tr>",
                            "<tr><td>189</td><td>1</td></tr>",
                            "<tr><td>190</td><td>5</td></tr>",
                            "<tr><td>191</td><td>3</td></tr>",
                            "<tr><td>192</td><td>1</td></tr>",
                            "<tr><td>193</td><td>2</td></tr>",
                            "<tr><td>194</td><td>1</td></tr>",
                            "<tr><td>195</td><td>5</td></tr>",
                            "<tr><td>196</td><td>2</td></tr>",
                            "<tr><td>197</td><td>6</td></tr>",
                            "<tr><td>198</td><td>7</td></tr>",
                            "<tr><td>Összesen</td><td>668</td></tr>",
                            "</table>"
                        ]
                    }
                }
            ],
            "execution_count": 4
        },
        {
            "cell_type": "markdown",
            "source": [
                ""
            ],
            "metadata": {
                "azdata_cell_guid": "d89c4c2f-7057-43c6-9dc3-2caa20b43e8c"
            }
        }
    ]
}