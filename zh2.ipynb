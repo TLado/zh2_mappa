{
    "metadata": {
        "kernelspec": {
            "name": "SQL",
            "display_name": "SQL",
            "language": "sql"
        },
        "language_info": {
            "name": "sql",
            "version": ""
        }
    },
    "nbformat_minor": 2,
    "nbformat": 4,
    "cells": [
        {
            "cell_type": "markdown",
            "source": [
                "Készítsen lekérdezést, amely megjeleníti, hogy szobánként (SZOBA\\_FK) hány olyan foglalás történt, ahol a felnőttek száma nagyobb volt a gyermekek számánál!\n",
                "\n",
                "a. A lekérdezés jelenítse meg a végösszeget is megfelelően jelölve!"
            ],
            "metadata": {
                "azdata_cell_guid": "6510f580-90f1-4b8c-8af8-0bcfbdc9400c"
            },
            "attachments": {}
        },
        {
            "cell_type": "code",
            "source": [
                "SELECT (   \r\n",
                "    CASE GROUPING(Szoba_fk)\r\n",
                "    WHEN 0 THEN CAST(Szoba_fk AS nvarchar)\r\n",
                "    WHEN 1 THEN 'Összesen' END\r\n",
                ") AS 'Szoba_FK', \r\n",
                "        Count(*) AS 'Darabszám'\r\n",
                "FROM foglalas\r\n",
                "WHERE Felnott_szam > gyermek_szam\r\n",
                "GROUP BY Rollup(Szoba_fk)"
            ],
            "metadata": {
                "azdata_cell_guid": "3f30f433-e527-4278-a430-c652630802d1",
                "language": "sql"
            },
            "outputs": [
                {
                    "output_type": "display_data",
                    "data": {
                        "text/html": "(190 rows affected)"
                    },
                    "metadata": {}
                },
                {
                    "output_type": "display_data",
                    "data": {
                        "text/html": "Total execution time: 00:00:00.013"
                    },
                    "metadata": {}
                },
                {
                    "output_type": "execute_result",
                    "metadata": {},
                    "execution_count": 4,
                    "data": {
                        "application/vnd.dataresource+json": {
                            "schema": {
                                "fields": [
                                    {
                                        "name": "Szoba_FK"
                                    },
                                    {
                                        "name": "Darabszám"
                                    }
                                ]
                            },
                            "data": [
                                {
                                    "Szoba_FK": "1",
                                    "Darabszám": "7"
                                },
                                {
                                    "Szoba_FK": "2",
                                    "Darabszám": "2"
                                },
                                {
                                    "Szoba_FK": "3",
                                    "Darabszám": "3"
                                },
                                {
                                    "Szoba_FK": "4",
                                    "Darabszám": "5"
                                },
                                {
                                    "Szoba_FK": "5",
                                    "Darabszám": "2"
                                },
                                {
                                    "Szoba_FK": "6",
                                    "Darabszám": "5"
                                },
                                {
                                    "Szoba_FK": "7",
                                    "Darabszám": "6"
                                },
                                {
                                    "Szoba_FK": "8",
                                    "Darabszám": "5"
                                },
                                {
                                    "Szoba_FK": "9",
                                    "Darabszám": "4"
                                },
                                {
                                    "Szoba_FK": "10",
                                    "Darabszám": "4"
                                },
                                {
                                    "Szoba_FK": "11",
                                    "Darabszám": "4"
                                },
                                {
                                    "Szoba_FK": "12",
                                    "Darabszám": "7"
                                },
                                {
                                    "Szoba_FK": "13",
                                    "Darabszám": "4"
                                },
                                {
                                    "Szoba_FK": "14",
                                    "Darabszám": "3"
                                },
                                {
                                    "Szoba_FK": "15",
                                    "Darabszám": "4"
                                },
                                {
                                    "Szoba_FK": "16",
                                    "Darabszám": "1"
                                },
                                {
                                    "Szoba_FK": "17",
                                    "Darabszám": "2"
                                },
                                {
                                    "Szoba_FK": "18",
                                    "Darabszám": "3"
                                },
                                {
                                    "Szoba_FK": "19",
                                    "Darabszám": "4"
                                },
                                {
                                    "Szoba_FK": "20",
                                    "Darabszám": "5"
                                },
                                {
                                    "Szoba_FK": "21",
                                    "Darabszám": "1"
                                },
                                {
                                    "Szoba_FK": "22",
                                    "Darabszám": "2"
                                },
                                {
                                    "Szoba_FK": "23",
                                    "Darabszám": "3"
                                },
                                {
                                    "Szoba_FK": "24",
                                    "Darabszám": "3"
                                },
                                {
                                    "Szoba_FK": "25",
                                    "Darabszám": "1"
                                },
                                {
                                    "Szoba_FK": "27",
                                    "Darabszám": "5"
                                },
                                {
                                    "Szoba_FK": "28",
                                    "Darabszám": "5"
                                },
                                {
                                    "Szoba_FK": "29",
                                    "Darabszám": "3"
                                },
                                {
                                    "Szoba_FK": "30",
                                    "Darabszám": "2"
                                },
                                {
                                    "Szoba_FK": "31",
                                    "Darabszám": "1"
                                },
                                {
                                    "Szoba_FK": "32",
                                    "Darabszám": "1"
                                },
                                {
                                    "Szoba_FK": "33",
                                    "Darabszám": "3"
                                },
                                {
                                    "Szoba_FK": "34",
                                    "Darabszám": "3"
                                },
                                {
                                    "Szoba_FK": "35",
                                    "Darabszám": "6"
                                },
                                {
                                    "Szoba_FK": "36",
                                    "Darabszám": "4"
                                },
                                {
                                    "Szoba_FK": "37",
                                    "Darabszám": "2"
                                },
                                {
                                    "Szoba_FK": "38",
                                    "Darabszám": "5"
                                },
                                {
                                    "Szoba_FK": "39",
                                    "Darabszám": "4"
                                },
                                {
                                    "Szoba_FK": "40",
                                    "Darabszám": "3"
                                },
                                {
                                    "Szoba_FK": "41",
                                    "Darabszám": "1"
                                },
                                {
                                    "Szoba_FK": "42",
                                    "Darabszám": "5"
                                },
                                {
                                    "Szoba_FK": "43",
                                    "Darabszám": "4"
                                },
                                {
                                    "Szoba_FK": "44",
                                    "Darabszám": "6"
                                },
                                {
                                    "Szoba_FK": "45",
                                    "Darabszám": "4"
                                },
                                {
                                    "Szoba_FK": "46",
                                    "Darabszám": "3"
                                },
                                {
                                    "Szoba_FK": "47",
                                    "Darabszám": "2"
                                },
                                {
                                    "Szoba_FK": "48",
                                    "Darabszám": "6"
                                },
                                {
                                    "Szoba_FK": "49",
                                    "Darabszám": "5"
                                },
                                {
                                    "Szoba_FK": "50",
                                    "Darabszám": "3"
                                },
                                {
                                    "Szoba_FK": "51",
                                    "Darabszám": "3"
                                },
                                {
                                    "Szoba_FK": "52",
                                    "Darabszám": "5"
                                },
                                {
                                    "Szoba_FK": "54",
                                    "Darabszám": "4"
                                },
                                {
                                    "Szoba_FK": "55",
                                    "Darabszám": "3"
                                },
                                {
                                    "Szoba_FK": "56",
                                    "Darabszám": "1"
                                },
                                {
                                    "Szoba_FK": "57",
                                    "Darabszám": "3"
                                },
                                {
                                    "Szoba_FK": "58",
                                    "Darabszám": "8"
                                },
                                {
                                    "Szoba_FK": "59",
                                    "Darabszám": "4"
                                },
                                {
                                    "Szoba_FK": "60",
                                    "Darabszám": "1"
                                },
                                {
                                    "Szoba_FK": "61",
                                    "Darabszám": "4"
                                },
                                {
                                    "Szoba_FK": "62",
                                    "Darabszám": "3"
                                },
                                {
                                    "Szoba_FK": "63",
                                    "Darabszám": "3"
                                },
                                {
                                    "Szoba_FK": "64",
                                    "Darabszám": "5"
                                },
                                {
                                    "Szoba_FK": "66",
                                    "Darabszám": "3"
                                },
                                {
                                    "Szoba_FK": "67",
                                    "Darabszám": "2"
                                },
                                {
                                    "Szoba_FK": "69",
                                    "Darabszám": "2"
                                },
                                {
                                    "Szoba_FK": "70",
                                    "Darabszám": "8"
                                },
                                {
                                    "Szoba_FK": "71",
                                    "Darabszám": "2"
                                },
                                {
                                    "Szoba_FK": "72",
                                    "Darabszám": "2"
                                },
                                {
                                    "Szoba_FK": "73",
                                    "Darabszám": "4"
                                },
                                {
                                    "Szoba_FK": "74",
                                    "Darabszám": "8"
                                },
                                {
                                    "Szoba_FK": "75",
                                    "Darabszám": "2"
                                },
                                {
                                    "Szoba_FK": "76",
                                    "Darabszám": "2"
                                },
                                {
                                    "Szoba_FK": "77",
                                    "Darabszám": "3"
                                },
                                {
                                    "Szoba_FK": "78",
                                    "Darabszám": "3"
                                },
                                {
                                    "Szoba_FK": "79",
                                    "Darabszám": "4"
                                },
                                {
                                    "Szoba_FK": "80",
                                    "Darabszám": "5"
                                },
                                {
                                    "Szoba_FK": "81",
                                    "Darabszám": "3"
                                },
                                {
                                    "Szoba_FK": "82",
                                    "Darabszám": "5"
                                },
                                {
                                    "Szoba_FK": "83",
                                    "Darabszám": "5"
                                },
                                {
                                    "Szoba_FK": "84",
                                    "Darabszám": "3"
                                },
                                {
                                    "Szoba_FK": "85",
                                    "Darabszám": "2"
                                },
                                {
                                    "Szoba_FK": "86",
                                    "Darabszám": "4"
                                },
                                {
                                    "Szoba_FK": "87",
                                    "Darabszám": "5"
                                },
                                {
                                    "Szoba_FK": "88",
                                    "Darabszám": "5"
                                },
                                {
                                    "Szoba_FK": "89",
                                    "Darabszám": "8"
                                },
                                {
                                    "Szoba_FK": "90",
                                    "Darabszám": "3"
                                },
                                {
                                    "Szoba_FK": "91",
                                    "Darabszám": "2"
                                },
                                {
                                    "Szoba_FK": "92",
                                    "Darabszám": "5"
                                },
                                {
                                    "Szoba_FK": "93",
                                    "Darabszám": "3"
                                },
                                {
                                    "Szoba_FK": "94",
                                    "Darabszám": "6"
                                },
                                {
                                    "Szoba_FK": "95",
                                    "Darabszám": "3"
                                },
                                {
                                    "Szoba_FK": "96",
                                    "Darabszám": "6"
                                },
                                {
                                    "Szoba_FK": "97",
                                    "Darabszám": "5"
                                },
                                {
                                    "Szoba_FK": "98",
                                    "Darabszám": "4"
                                },
                                {
                                    "Szoba_FK": "99",
                                    "Darabszám": "4"
                                },
                                {
                                    "Szoba_FK": "100",
                                    "Darabszám": "2"
                                },
                                {
                                    "Szoba_FK": "101",
                                    "Darabszám": "1"
                                },
                                {
                                    "Szoba_FK": "102",
                                    "Darabszám": "1"
                                },
                                {
                                    "Szoba_FK": "103",
                                    "Darabszám": "1"
                                },
                                {
                                    "Szoba_FK": "104",
                                    "Darabszám": "3"
                                },
                                {
                                    "Szoba_FK": "106",
                                    "Darabszám": "4"
                                },
                                {
                                    "Szoba_FK": "107",
                                    "Darabszám": "4"
                                },
                                {
                                    "Szoba_FK": "108",
                                    "Darabszám": "1"
                                },
                                {
                                    "Szoba_FK": "109",
                                    "Darabszám": "2"
                                },
                                {
                                    "Szoba_FK": "110",
                                    "Darabszám": "5"
                                },
                                {
                                    "Szoba_FK": "111",
                                    "Darabszám": "1"
                                },
                                {
                                    "Szoba_FK": "112",
                                    "Darabszám": "4"
                                },
                                {
                                    "Szoba_FK": "113",
                                    "Darabszám": "2"
                                },
                                {
                                    "Szoba_FK": "114",
                                    "Darabszám": "1"
                                },
                                {
                                    "Szoba_FK": "115",
                                    "Darabszám": "5"
                                },
                                {
                                    "Szoba_FK": "117",
                                    "Darabszám": "4"
                                },
                                {
                                    "Szoba_FK": "118",
                                    "Darabszám": "2"
                                },
                                {
                                    "Szoba_FK": "119",
                                    "Darabszám": "4"
                                },
                                {
                                    "Szoba_FK": "120",
                                    "Darabszám": "2"
                                },
                                {
                                    "Szoba_FK": "121",
                                    "Darabszám": "5"
                                },
                                {
                                    "Szoba_FK": "122",
                                    "Darabszám": "3"
                                },
                                {
                                    "Szoba_FK": "123",
                                    "Darabszám": "5"
                                },
                                {
                                    "Szoba_FK": "124",
                                    "Darabszám": "4"
                                },
                                {
                                    "Szoba_FK": "126",
                                    "Darabszám": "4"
                                },
                                {
                                    "Szoba_FK": "127",
                                    "Darabszám": "5"
                                },
                                {
                                    "Szoba_FK": "129",
                                    "Darabszám": "3"
                                },
                                {
                                    "Szoba_FK": "130",
                                    "Darabszám": "5"
                                },
                                {
                                    "Szoba_FK": "131",
                                    "Darabszám": "4"
                                },
                                {
                                    "Szoba_FK": "132",
                                    "Darabszám": "4"
                                },
                                {
                                    "Szoba_FK": "133",
                                    "Darabszám": "4"
                                },
                                {
                                    "Szoba_FK": "134",
                                    "Darabszám": "4"
                                },
                                {
                                    "Szoba_FK": "135",
                                    "Darabszám": "3"
                                },
                                {
                                    "Szoba_FK": "136",
                                    "Darabszám": "2"
                                },
                                {
                                    "Szoba_FK": "137",
                                    "Darabszám": "2"
                                },
                                {
                                    "Szoba_FK": "138",
                                    "Darabszám": "5"
                                },
                                {
                                    "Szoba_FK": "139",
                                    "Darabszám": "6"
                                },
                                {
                                    "Szoba_FK": "140",
                                    "Darabszám": "5"
                                },
                                {
                                    "Szoba_FK": "141",
                                    "Darabszám": "4"
                                },
                                {
                                    "Szoba_FK": "142",
                                    "Darabszám": "1"
                                },
                                {
                                    "Szoba_FK": "143",
                                    "Darabszám": "5"
                                },
                                {
                                    "Szoba_FK": "144",
                                    "Darabszám": "2"
                                },
                                {
                                    "Szoba_FK": "145",
                                    "Darabszám": "2"
                                },
                                {
                                    "Szoba_FK": "146",
                                    "Darabszám": "3"
                                },
                                {
                                    "Szoba_FK": "147",
                                    "Darabszám": "1"
                                },
                                {
                                    "Szoba_FK": "148",
                                    "Darabszám": "5"
                                },
                                {
                                    "Szoba_FK": "149",
                                    "Darabszám": "5"
                                },
                                {
                                    "Szoba_FK": "150",
                                    "Darabszám": "6"
                                },
                                {
                                    "Szoba_FK": "151",
                                    "Darabszám": "2"
                                },
                                {
                                    "Szoba_FK": "152",
                                    "Darabszám": "3"
                                },
                                {
                                    "Szoba_FK": "153",
                                    "Darabszám": "4"
                                },
                                {
                                    "Szoba_FK": "154",
                                    "Darabszám": "3"
                                },
                                {
                                    "Szoba_FK": "155",
                                    "Darabszám": "3"
                                },
                                {
                                    "Szoba_FK": "156",
                                    "Darabszám": "2"
                                },
                                {
                                    "Szoba_FK": "157",
                                    "Darabszám": "2"
                                },
                                {
                                    "Szoba_FK": "158",
                                    "Darabszám": "3"
                                },
                                {
                                    "Szoba_FK": "160",
                                    "Darabszám": "2"
                                },
                                {
                                    "Szoba_FK": "161",
                                    "Darabszám": "3"
                                },
                                {
                                    "Szoba_FK": "162",
                                    "Darabszám": "2"
                                },
                                {
                                    "Szoba_FK": "163",
                                    "Darabszám": "5"
                                },
                                {
                                    "Szoba_FK": "164",
                                    "Darabszám": "4"
                                },
                                {
                                    "Szoba_FK": "165",
                                    "Darabszám": "5"
                                },
                                {
                                    "Szoba_FK": "166",
                                    "Darabszám": "3"
                                },
                                {
                                    "Szoba_FK": "167",
                                    "Darabszám": "2"
                                },
                                {
                                    "Szoba_FK": "168",
                                    "Darabszám": "1"
                                },
                                {
                                    "Szoba_FK": "169",
                                    "Darabszám": "3"
                                },
                                {
                                    "Szoba_FK": "170",
                                    "Darabszám": "3"
                                },
                                {
                                    "Szoba_FK": "171",
                                    "Darabszám": "5"
                                },
                                {
                                    "Szoba_FK": "172",
                                    "Darabszám": "6"
                                },
                                {
                                    "Szoba_FK": "173",
                                    "Darabszám": "3"
                                },
                                {
                                    "Szoba_FK": "174",
                                    "Darabszám": "4"
                                },
                                {
                                    "Szoba_FK": "175",
                                    "Darabszám": "3"
                                },
                                {
                                    "Szoba_FK": "176",
                                    "Darabszám": "2"
                                },
                                {
                                    "Szoba_FK": "177",
                                    "Darabszám": "1"
                                },
                                {
                                    "Szoba_FK": "178",
                                    "Darabszám": "1"
                                },
                                {
                                    "Szoba_FK": "179",
                                    "Darabszám": "2"
                                },
                                {
                                    "Szoba_FK": "180",
                                    "Darabszám": "1"
                                },
                                {
                                    "Szoba_FK": "181",
                                    "Darabszám": "5"
                                },
                                {
                                    "Szoba_FK": "182",
                                    "Darabszám": "11"
                                },
                                {
                                    "Szoba_FK": "183",
                                    "Darabszám": "3"
                                },
                                {
                                    "Szoba_FK": "184",
                                    "Darabszám": "4"
                                },
                                {
                                    "Szoba_FK": "185",
                                    "Darabszám": "10"
                                },
                                {
                                    "Szoba_FK": "186",
                                    "Darabszám": "1"
                                },
                                {
                                    "Szoba_FK": "187",
                                    "Darabszám": "6"
                                },
                                {
                                    "Szoba_FK": "188",
                                    "Darabszám": "2"
                                },
                                {
                                    "Szoba_FK": "189",
                                    "Darabszám": "1"
                                },
                                {
                                    "Szoba_FK": "190",
                                    "Darabszám": "5"
                                },
                                {
                                    "Szoba_FK": "191",
                                    "Darabszám": "3"
                                },
                                {
                                    "Szoba_FK": "192",
                                    "Darabszám": "1"
                                },
                                {
                                    "Szoba_FK": "193",
                                    "Darabszám": "2"
                                },
                                {
                                    "Szoba_FK": "194",
                                    "Darabszám": "1"
                                },
                                {
                                    "Szoba_FK": "195",
                                    "Darabszám": "5"
                                },
                                {
                                    "Szoba_FK": "196",
                                    "Darabszám": "2"
                                },
                                {
                                    "Szoba_FK": "197",
                                    "Darabszám": "6"
                                },
                                {
                                    "Szoba_FK": "198",
                                    "Darabszám": "7"
                                },
                                {
                                    "Szoba_FK": "Összesen",
                                    "Darabszám": "668"
                                }
                            ]
                        },
                        "text/html": [
                            "<table>",
                            "<tr><th>Szoba_FK</th><th>Darabszám</th></tr>",
                            "<tr><td>1</td><td>7</td></tr>",
                            "<tr><td>2</td><td>2</td></tr>",
                            "<tr><td>3</td><td>3</td></tr>",
                            "<tr><td>4</td><td>5</td></tr>",
                            "<tr><td>5</td><td>2</td></tr>",
                            "<tr><td>6</td><td>5</td></tr>",
                            "<tr><td>7</td><td>6</td></tr>",
                            "<tr><td>8</td><td>5</td></tr>",
                            "<tr><td>9</td><td>4</td></tr>",
                            "<tr><td>10</td><td>4</td></tr>",
                            "<tr><td>11</td><td>4</td></tr>",
                            "<tr><td>12</td><td>7</td></tr>",
                            "<tr><td>13</td><td>4</td></tr>",
                            "<tr><td>14</td><td>3</td></tr>",
                            "<tr><td>15</td><td>4</td></tr>",
                            "<tr><td>16</td><td>1</td></tr>",
                            "<tr><td>17</td><td>2</td></tr>",
                            "<tr><td>18</td><td>3</td></tr>",
                            "<tr><td>19</td><td>4</td></tr>",
                            "<tr><td>20</td><td>5</td></tr>",
                            "<tr><td>21</td><td>1</td></tr>",
                            "<tr><td>22</td><td>2</td></tr>",
                            "<tr><td>23</td><td>3</td></tr>",
                            "<tr><td>24</td><td>3</td></tr>",
                            "<tr><td>25</td><td>1</td></tr>",
                            "<tr><td>27</td><td>5</td></tr>",
                            "<tr><td>28</td><td>5</td></tr>",
                            "<tr><td>29</td><td>3</td></tr>",
                            "<tr><td>30</td><td>2</td></tr>",
                            "<tr><td>31</td><td>1</td></tr>",
                            "<tr><td>32</td><td>1</td></tr>",
                            "<tr><td>33</td><td>3</td></tr>",
                            "<tr><td>34</td><td>3</td></tr>",
                            "<tr><td>35</td><td>6</td></tr>",
                            "<tr><td>36</td><td>4</td></tr>",
                            "<tr><td>37</td><td>2</td></tr>",
                            "<tr><td>38</td><td>5</td></tr>",
                            "<tr><td>39</td><td>4</td></tr>",
                            "<tr><td>40</td><td>3</td></tr>",
                            "<tr><td>41</td><td>1</td></tr>",
                            "<tr><td>42</td><td>5</td></tr>",
                            "<tr><td>43</td><td>4</td></tr>",
                            "<tr><td>44</td><td>6</td></tr>",
                            "<tr><td>45</td><td>4</td></tr>",
                            "<tr><td>46</td><td>3</td></tr>",
                            "<tr><td>47</td><td>2</td></tr>",
                            "<tr><td>48</td><td>6</td></tr>",
                            "<tr><td>49</td><td>5</td></tr>",
                            "<tr><td>50</td><td>3</td></tr>",
                            "<tr><td>51</td><td>3</td></tr>",
                            "<tr><td>52</td><td>5</td></tr>",
                            "<tr><td>54</td><td>4</td></tr>",
                            "<tr><td>55</td><td>3</td></tr>",
                            "<tr><td>56</td><td>1</td></tr>",
                            "<tr><td>57</td><td>3</td></tr>",
                            "<tr><td>58</td><td>8</td></tr>",
                            "<tr><td>59</td><td>4</td></tr>",
                            "<tr><td>60</td><td>1</td></tr>",
                            "<tr><td>61</td><td>4</td></tr>",
                            "<tr><td>62</td><td>3</td></tr>",
                            "<tr><td>63</td><td>3</td></tr>",
                            "<tr><td>64</td><td>5</td></tr>",
                            "<tr><td>66</td><td>3</td></tr>",
                            "<tr><td>67</td><td>2</td></tr>",
                            "<tr><td>69</td><td>2</td></tr>",
                            "<tr><td>70</td><td>8</td></tr>",
                            "<tr><td>71</td><td>2</td></tr>",
                            "<tr><td>72</td><td>2</td></tr>",
                            "<tr><td>73</td><td>4</td></tr>",
                            "<tr><td>74</td><td>8</td></tr>",
                            "<tr><td>75</td><td>2</td></tr>",
                            "<tr><td>76</td><td>2</td></tr>",
                            "<tr><td>77</td><td>3</td></tr>",
                            "<tr><td>78</td><td>3</td></tr>",
                            "<tr><td>79</td><td>4</td></tr>",
                            "<tr><td>80</td><td>5</td></tr>",
                            "<tr><td>81</td><td>3</td></tr>",
                            "<tr><td>82</td><td>5</td></tr>",
                            "<tr><td>83</td><td>5</td></tr>",
                            "<tr><td>84</td><td>3</td></tr>",
                            "<tr><td>85</td><td>2</td></tr>",
                            "<tr><td>86</td><td>4</td></tr>",
                            "<tr><td>87</td><td>5</td></tr>",
                            "<tr><td>88</td><td>5</td></tr>",
                            "<tr><td>89</td><td>8</td></tr>",
                            "<tr><td>90</td><td>3</td></tr>",
                            "<tr><td>91</td><td>2</td></tr>",
                            "<tr><td>92</td><td>5</td></tr>",
                            "<tr><td>93</td><td>3</td></tr>",
                            "<tr><td>94</td><td>6</td></tr>",
                            "<tr><td>95</td><td>3</td></tr>",
                            "<tr><td>96</td><td>6</td></tr>",
                            "<tr><td>97</td><td>5</td></tr>",
                            "<tr><td>98</td><td>4</td></tr>",
                            "<tr><td>99</td><td>4</td></tr>",
                            "<tr><td>100</td><td>2</td></tr>",
                            "<tr><td>101</td><td>1</td></tr>",
                            "<tr><td>102</td><td>1</td></tr>",
                            "<tr><td>103</td><td>1</td></tr>",
                            "<tr><td>104</td><td>3</td></tr>",
                            "<tr><td>106</td><td>4</td></tr>",
                            "<tr><td>107</td><td>4</td></tr>",
                            "<tr><td>108</td><td>1</td></tr>",
                            "<tr><td>109</td><td>2</td></tr>",
                            "<tr><td>110</td><td>5</td></tr>",
                            "<tr><td>111</td><td>1</td></tr>",
                            "<tr><td>112</td><td>4</td></tr>",
                            "<tr><td>113</td><td>2</td></tr>",
                            "<tr><td>114</td><td>1</td></tr>",
                            "<tr><td>115</td><td>5</td></tr>",
                            "<tr><td>117</td><td>4</td></tr>",
                            "<tr><td>118</td><td>2</td></tr>",
                            "<tr><td>119</td><td>4</td></tr>",
                            "<tr><td>120</td><td>2</td></tr>",
                            "<tr><td>121</td><td>5</td></tr>",
                            "<tr><td>122</td><td>3</td></tr>",
                            "<tr><td>123</td><td>5</td></tr>",
                            "<tr><td>124</td><td>4</td></tr>",
                            "<tr><td>126</td><td>4</td></tr>",
                            "<tr><td>127</td><td>5</td></tr>",
                            "<tr><td>129</td><td>3</td></tr>",
                            "<tr><td>130</td><td>5</td></tr>",
                            "<tr><td>131</td><td>4</td></tr>",
                            "<tr><td>132</td><td>4</td></tr>",
                            "<tr><td>133</td><td>4</td></tr>",
                            "<tr><td>134</td><td>4</td></tr>",
                            "<tr><td>135</td><td>3</td></tr>",
                            "<tr><td>136</td><td>2</td></tr>",
                            "<tr><td>137</td><td>2</td></tr>",
                            "<tr><td>138</td><td>5</td></tr>",
                            "<tr><td>139</td><td>6</td></tr>",
                            "<tr><td>140</td><td>5</td></tr>",
                            "<tr><td>141</td><td>4</td></tr>",
                            "<tr><td>142</td><td>1</td></tr>",
                            "<tr><td>143</td><td>5</td></tr>",
                            "<tr><td>144</td><td>2</td></tr>",
                            "<tr><td>145</td><td>2</td></tr>",
                            "<tr><td>146</td><td>3</td></tr>",
                            "<tr><td>147</td><td>1</td></tr>",
                            "<tr><td>148</td><td>5</td></tr>",
                            "<tr><td>149</td><td>5</td></tr>",
                            "<tr><td>150</td><td>6</td></tr>",
                            "<tr><td>151</td><td>2</td></tr>",
                            "<tr><td>152</td><td>3</td></tr>",
                            "<tr><td>153</td><td>4</td></tr>",
                            "<tr><td>154</td><td>3</td></tr>",
                            "<tr><td>155</td><td>3</td></tr>",
                            "<tr><td>156</td><td>2</td></tr>",
                            "<tr><td>157</td><td>2</td></tr>",
                            "<tr><td>158</td><td>3</td></tr>",
                            "<tr><td>160</td><td>2</td></tr>",
                            "<tr><td>161</td><td>3</td></tr>",
                            "<tr><td>162</td><td>2</td></tr>",
                            "<tr><td>163</td><td>5</td></tr>",
                            "<tr><td>164</td><td>4</td></tr>",
                            "<tr><td>165</td><td>5</td></tr>",
                            "<tr><td>166</td><td>3</td></tr>",
                            "<tr><td>167</td><td>2</td></tr>",
                            "<tr><td>168</td><td>1</td></tr>",
                            "<tr><td>169</td><td>3</td></tr>",
                            "<tr><td>170</td><td>3</td></tr>",
                            "<tr><td>171</td><td>5</td></tr>",
                            "<tr><td>172</td><td>6</td></tr>",
                            "<tr><td>173</td><td>3</td></tr>",
                            "<tr><td>174</td><td>4</td></tr>",
                            "<tr><td>175</td><td>3</td></tr>",
                            "<tr><td>176</td><td>2</td></tr>",
                            "<tr><td>177</td><td>1</td></tr>",
                            "<tr><td>178</td><td>1</td></tr>",
                            "<tr><td>179</td><td>2</td></tr>",
                            "<tr><td>180</td><td>1</td></tr>",
                            "<tr><td>181</td><td>5</td></tr>",
                            "<tr><td>182</td><td>11</td></tr>",
                            "<tr><td>183</td><td>3</td></tr>",
                            "<tr><td>184</td><td>4</td></tr>",
                            "<tr><td>185</td><td>10</td></tr>",
                            "<tr><td>186</td><td>1</td></tr>",
                            "<tr><td>187</td><td>6</td></tr>",
                            "<tr><td>188</td><td>2</td></tr>",
                            "<tr><td>189</td><td>1</td></tr>",
                            "<tr><td>190</td><td>5</td></tr>",
                            "<tr><td>191</td><td>3</td></tr>",
                            "<tr><td>192</td><td>1</td></tr>",
                            "<tr><td>193</td><td>2</td></tr>",
                            "<tr><td>194</td><td>1</td></tr>",
                            "<tr><td>195</td><td>5</td></tr>",
                            "<tr><td>196</td><td>2</td></tr>",
                            "<tr><td>197</td><td>6</td></tr>",
                            "<tr><td>198</td><td>7</td></tr>",
                            "<tr><td>Összesen</td><td>668</td></tr>",
                            "</table>"
                        ]
                    }
                }
            ],
            "execution_count": 4
        },
        {
            "cell_type": "markdown",
            "source": [
                "Rangsoroljuk az egyes szobákat a foglalások száma, azon belül férőhely szerint!\n",
                "\n",
                "- Holtverseny esetén a sorszámok sűrűn kövessék egymást\n",
                "- Az 1-es számot a legtöbbet foglalt, azon belül legkevesebb férőhelyű szoba kapja\n",
                "- Csak a szoba azonosítója, a férőhely és a helyezés jelenjen meg"
            ],
            "metadata": {
                "azdata_cell_guid": "d89c4c2f-7057-43c6-9dc3-2caa20b43e8c"
            },
            "attachments": {}
        },
        {
            "cell_type": "code",
            "source": [
                "SELECT s.SZOBA_ID, s.ferohely, \r\n",
                "        Dense_RANK() OVER(Partition BY f.szoba_fk\r\n",
                "            ORDER BY Count(*), s.Ferohely) AS 'Rank'\r\n",
                "FROM Foglalas f JOIN Szoba s ON f.SZOBA_FK = s.SZOBA_ID"
            ],
            "metadata": {
                "azdata_cell_guid": "165e2c41-bf79-4486-857a-6690845431d4",
                "language": "sql"
            },
            "outputs": [
                {
                    "output_type": "error",
                    "evalue": "Msg 8120, Level 16, State 1, Line 1\r\nColumn 'Szoba.SZOBA_ID' is invalid in the select list because it is not contained in either an aggregate function or the GROUP BY clause.",
                    "ename": "",
                    "traceback": []
                },
                {
                    "output_type": "display_data",
                    "data": {
                        "text/html": "Total execution time: 00:00:00.002"
                    },
                    "metadata": {}
                }
            ],
            "execution_count": 26
        },
        {
            "cell_type": "markdown",
            "source": [
                "Kérdezzük le az átlagosnál kevesebb főre történt foglalások adatait!\n",
                "\n",
                "a. Egy új oszlopban jelenjen meg az ügyfél neve is!\n",
                "\n",
                "b. Egy másik új oszlop mutassa meg, hogy az ügyfél előző három foglalása átlagosan hány főre történt! Az oszlop neve legyen 'Előző három foglalás átlaga'\n",
                "\n",
                "c. A listában azon vendégek is jelenjenek meg, akik még nem foglaltak!"
            ],
            "metadata": {
                "azdata_cell_guid": "33a794da-6027-41c8-9462-309cd29496ae"
            },
            "attachments": {}
        },
        {
            "cell_type": "code",
            "source": [
                "SELECT F.*,\r\n",
                "        V.NEV,\r\n",
                "        AVG(FELNOTT_SZAM + GYERMEK_SZAM) OVER(PARTITION BY V.NEV\r\n",
                "            ORDER BY V.NEV\r\n",
                "            ROWS BETWEEN 3 PRECEDING AND CURRENT ROW) AS 'eLŐZŐ HÁROM FOGLALÁS ÁTLAGA',\r\n",
                "        FELNOTT_SZAM + GYERMEK_SZAM as 'összfő'\r\n",
                "FROM Foglalas F LEFT JOIN Vendeg V ON  F.UGYFEL_FK = V.USERNEV\r\n",
                "WHERE FELNOTT_SZAM + GYERMEK_SZAM < (\r\n",
                "    SELECT AVG(FELNOTT_SZAM + GYERMEK_SZAM)\r\n",
                "    FROM Foglalas\r\n",
                ")"
            ],
            "metadata": {
                "azdata_cell_guid": "1a8b2a4c-38e7-4109-82d7-5ee3333b1f50",
                "language": "sql"
            },
            "outputs": [
                {
                    "output_type": "display_data",
                    "data": {
                        "text/html": "(147 rows affected)"
                    },
                    "metadata": {}
                },
                {
                    "output_type": "display_data",
                    "data": {
                        "text/html": "Total execution time: 00:00:00.012"
                    },
                    "metadata": {}
                },
                {
                    "output_type": "execute_result",
                    "metadata": {},
                    "execution_count": 37,
                    "data": {
                        "application/vnd.dataresource+json": {
                            "schema": {
                                "fields": [
                                    {
                                        "name": "FOGLALAS_PK"
                                    },
                                    {
                                        "name": "UGYFEL_FK"
                                    },
                                    {
                                        "name": "SZOBA_FK"
                                    },
                                    {
                                        "name": "METTOL"
                                    },
                                    {
                                        "name": "MEDDIG"
                                    },
                                    {
                                        "name": "FELNOTT_SZAM"
                                    },
                                    {
                                        "name": "GYERMEK_SZAM"
                                    },
                                    {
                                        "name": "NEV"
                                    },
                                    {
                                        "name": "eLŐZŐ HÁROM FOGLALÁS ÁTLAGA"
                                    },
                                    {
                                        "name": "összfő"
                                    }
                                ]
                            },
                            "data": [
                                {
                                    "FOGLALAS_PK": "757",
                                    "UGYFEL_FK": "david",
                                    "SZOBA_FK": "88",
                                    "METTOL": "2016-08-05",
                                    "MEDDIG": "2016-08-12",
                                    "FELNOTT_SZAM": "1",
                                    "GYERMEK_SZAM": "0",
                                    "NEV": "Ambrus Dávid",
                                    "eLŐZŐ HÁROM FOGLALÁS ÁTLAGA": "1",
                                    "összfő": "1"
                                },
                                {
                                    "FOGLALAS_PK": "923",
                                    "UGYFEL_FK": "LASZLOA",
                                    "SZOBA_FK": "123",
                                    "METTOL": "2016-06-07",
                                    "MEDDIG": "2016-06-11",
                                    "FELNOTT_SZAM": "1",
                                    "GYERMEK_SZAM": "0",
                                    "NEV": "Antal László",
                                    "eLŐZŐ HÁROM FOGLALÁS ÁTLAGA": "1",
                                    "összfő": "1"
                                },
                                {
                                    "FOGLALAS_PK": "1005",
                                    "UGYFEL_FK": "beata4",
                                    "SZOBA_FK": "22",
                                    "METTOL": "2016-07-03",
                                    "MEDDIG": "2016-07-06",
                                    "FELNOTT_SZAM": "1",
                                    "GYERMEK_SZAM": "0",
                                    "NEV": "Bagi Beáta",
                                    "eLŐZŐ HÁROM FOGLALÁS ÁTLAGA": "1",
                                    "összfő": "1"
                                },
                                {
                                    "FOGLALAS_PK": "1112",
                                    "UGYFEL_FK": "beata4",
                                    "SZOBA_FK": "155",
                                    "METTOL": "2016-10-01",
                                    "MEDDIG": "2016-10-05",
                                    "FELNOTT_SZAM": "1",
                                    "GYERMEK_SZAM": "0",
                                    "NEV": "Bagi Beáta",
                                    "eLŐZŐ HÁROM FOGLALÁS ÁTLAGA": "1",
                                    "összfő": "1"
                                },
                                {
                                    "FOGLALAS_PK": "1436",
                                    "UGYFEL_FK": "alexandra",
                                    "SZOBA_FK": "35",
                                    "METTOL": "2017-01-13",
                                    "MEDDIG": "2017-01-14",
                                    "FELNOTT_SZAM": "1",
                                    "GYERMEK_SZAM": "0",
                                    "NEV": "Bagóczki Alexandra",
                                    "eLŐZŐ HÁROM FOGLALÁS ÁTLAGA": "1",
                                    "összfő": "1"
                                },
                                {
                                    "FOGLALAS_PK": "1187",
                                    "UGYFEL_FK": "eszter2",
                                    "SZOBA_FK": "46",
                                    "METTOL": "2016-10-23",
                                    "MEDDIG": "2016-10-30",
                                    "FELNOTT_SZAM": "1",
                                    "GYERMEK_SZAM": "0",
                                    "NEV": "Balogh Eszter",
                                    "eLŐZŐ HÁROM FOGLALÁS ÁTLAGA": "1",
                                    "összfő": "1"
                                },
                                {
                                    "FOGLALAS_PK": "1171",
                                    "UGYFEL_FK": "eszter2",
                                    "SZOBA_FK": "172",
                                    "METTOL": "2016-10-20",
                                    "MEDDIG": "2016-10-25",
                                    "FELNOTT_SZAM": "1",
                                    "GYERMEK_SZAM": "0",
                                    "NEV": "Balogh Eszter",
                                    "eLŐZŐ HÁROM FOGLALÁS ÁTLAGA": "1",
                                    "összfő": "1"
                                },
                                {
                                    "FOGLALAS_PK": "1109",
                                    "UGYFEL_FK": "eszter2",
                                    "SZOBA_FK": "110",
                                    "METTOL": "2016-10-01",
                                    "MEDDIG": "2016-10-06",
                                    "FELNOTT_SZAM": "1",
                                    "GYERMEK_SZAM": "0",
                                    "NEV": "Balogh Eszter",
                                    "eLŐZŐ HÁROM FOGLALÁS ÁTLAGA": "1",
                                    "összfő": "1"
                                },
                                {
                                    "FOGLALAS_PK": "1017",
                                    "UGYFEL_FK": "eszter2",
                                    "SZOBA_FK": "190",
                                    "METTOL": "2016-07-08",
                                    "MEDDIG": "2016-07-09",
                                    "FELNOTT_SZAM": "1",
                                    "GYERMEK_SZAM": "0",
                                    "NEV": "Balogh Eszter",
                                    "eLŐZŐ HÁROM FOGLALÁS ÁTLAGA": "1",
                                    "összfő": "1"
                                },
                                {
                                    "FOGLALAS_PK": "1480",
                                    "UGYFEL_FK": "eszter2",
                                    "SZOBA_FK": "35",
                                    "METTOL": "2016-12-29",
                                    "MEDDIG": "2017-02-04",
                                    "FELNOTT_SZAM": "1",
                                    "GYERMEK_SZAM": "0",
                                    "NEV": "Balogh Eszter",
                                    "eLŐZŐ HÁROM FOGLALÁS ÁTLAGA": "1",
                                    "összfő": "1"
                                },
                                {
                                    "FOGLALAS_PK": "1336",
                                    "UGYFEL_FK": "eszter2",
                                    "SZOBA_FK": "172",
                                    "METTOL": "2016-12-02",
                                    "MEDDIG": "2016-12-07",
                                    "FELNOTT_SZAM": "1",
                                    "GYERMEK_SZAM": "0",
                                    "NEV": "Balogh Eszter",
                                    "eLŐZŐ HÁROM FOGLALÁS ÁTLAGA": "1",
                                    "összfő": "1"
                                },
                                {
                                    "FOGLALAS_PK": "981",
                                    "UGYFEL_FK": "maria1",
                                    "SZOBA_FK": "171",
                                    "METTOL": "2016-06-23",
                                    "MEDDIG": "2016-06-27",
                                    "FELNOTT_SZAM": "1",
                                    "GYERMEK_SZAM": "0",
                                    "NEV": "Baráth Mária",
                                    "eLŐZŐ HÁROM FOGLALÁS ÁTLAGA": "1",
                                    "összfő": "1"
                                },
                                {
                                    "FOGLALAS_PK": "652",
                                    "UGYFEL_FK": "maria1",
                                    "SZOBA_FK": "149",
                                    "METTOL": "2016-05-18",
                                    "MEDDIG": "2016-05-19",
                                    "FELNOTT_SZAM": "1",
                                    "GYERMEK_SZAM": "0",
                                    "NEV": "Baráth Mária",
                                    "eLŐZŐ HÁROM FOGLALÁS ÁTLAGA": "1",
                                    "összfő": "1"
                                },
                                {
                                    "FOGLALAS_PK": "846",
                                    "UGYFEL_FK": "maria1",
                                    "SZOBA_FK": "45",
                                    "METTOL": "2016-09-02",
                                    "MEDDIG": "2016-09-05",
                                    "FELNOTT_SZAM": "1",
                                    "GYERMEK_SZAM": "0",
                                    "NEV": "Baráth Mária",
                                    "eLŐZŐ HÁROM FOGLALÁS ÁTLAGA": "1",
                                    "összfő": "1"
                                },
                                {
                                    "FOGLALAS_PK": "1504",
                                    "UGYFEL_FK": "adam3",
                                    "SZOBA_FK": "57",
                                    "METTOL": "2017-02-06",
                                    "MEDDIG": "2017-02-10",
                                    "FELNOTT_SZAM": "1",
                                    "GYERMEK_SZAM": "0",
                                    "NEV": "Barkóci Ádám",
                                    "eLŐZŐ HÁROM FOGLALÁS ÁTLAGA": "1",
                                    "összfő": "1"
                                },
                                {
                                    "FOGLALAS_PK": "1230",
                                    "UGYFEL_FK": "zoltan4",
                                    "SZOBA_FK": "182",
                                    "METTOL": "2016-10-30",
                                    "MEDDIG": "2016-11-06",
                                    "FELNOTT_SZAM": "1",
                                    "GYERMEK_SZAM": "0",
                                    "NEV": "Barna Zoltán",
                                    "eLŐZŐ HÁROM FOGLALÁS ÁTLAGA": "1",
                                    "összfő": "1"
                                },
                                {
                                    "FOGLALAS_PK": "1403",
                                    "UGYFEL_FK": "zoltan4",
                                    "SZOBA_FK": "124",
                                    "METTOL": "2016-12-29",
                                    "MEDDIG": "2017-01-04",
                                    "FELNOTT_SZAM": "1",
                                    "GYERMEK_SZAM": "0",
                                    "NEV": "Barna Zoltán",
                                    "eLŐZŐ HÁROM FOGLALÁS ÁTLAGA": "1",
                                    "összfő": "1"
                                },
                                {
                                    "FOGLALAS_PK": "779",
                                    "UGYFEL_FK": "zoltan4",
                                    "SZOBA_FK": "130",
                                    "METTOL": "2016-08-15",
                                    "MEDDIG": "2016-08-21",
                                    "FELNOTT_SZAM": "1",
                                    "GYERMEK_SZAM": "0",
                                    "NEV": "Barna Zoltán",
                                    "eLŐZŐ HÁROM FOGLALÁS ÁTLAGA": "1",
                                    "összfő": "1"
                                },
                                {
                                    "FOGLALAS_PK": "893",
                                    "UGYFEL_FK": "zoltan4",
                                    "SZOBA_FK": "151",
                                    "METTOL": "2016-06-03",
                                    "MEDDIG": "2016-06-06",
                                    "FELNOTT_SZAM": "1",
                                    "GYERMEK_SZAM": "0",
                                    "NEV": "Barna Zoltán",
                                    "eLŐZŐ HÁROM FOGLALÁS ÁTLAGA": "1",
                                    "összfő": "1"
                                },
                                {
                                    "FOGLALAS_PK": "1428",
                                    "UGYFEL_FK": "zsuzsanna",
                                    "SZOBA_FK": "126",
                                    "METTOL": "2017-01-09",
                                    "MEDDIG": "2017-01-16",
                                    "FELNOTT_SZAM": "1",
                                    "GYERMEK_SZAM": "0",
                                    "NEV": "Barta Zsuzsanna",
                                    "eLŐZŐ HÁROM FOGLALÁS ÁTLAGA": "1",
                                    "összfő": "1"
                                },
                                {
                                    "FOGLALAS_PK": "562",
                                    "UGYFEL_FK": "PETERB",
                                    "SZOBA_FK": "7",
                                    "METTOL": "2016-04-06",
                                    "MEDDIG": "2016-04-10",
                                    "FELNOTT_SZAM": "1",
                                    "GYERMEK_SZAM": "0",
                                    "NEV": "Berendi Péter",
                                    "eLŐZŐ HÁROM FOGLALÁS ÁTLAGA": "1",
                                    "összfő": "1"
                                },
                                {
                                    "FOGLALAS_PK": "781",
                                    "UGYFEL_FK": "PETERB",
                                    "SZOBA_FK": "166",
                                    "METTOL": "2016-08-16",
                                    "MEDDIG": "2016-08-23",
                                    "FELNOTT_SZAM": "1",
                                    "GYERMEK_SZAM": "0",
                                    "NEV": "Berendi Péter",
                                    "eLŐZŐ HÁROM FOGLALÁS ÁTLAGA": "1",
                                    "összfő": "1"
                                },
                                {
                                    "FOGLALAS_PK": "1252",
                                    "UGYFEL_FK": "norbert5",
                                    "SZOBA_FK": "7",
                                    "METTOL": "2016-11-05",
                                    "MEDDIG": "2016-11-07",
                                    "FELNOTT_SZAM": "1",
                                    "GYERMEK_SZAM": "0",
                                    "NEV": "Béres Norbert",
                                    "eLŐZŐ HÁROM FOGLALÁS ÁTLAGA": "1",
                                    "összfő": "1"
                                },
                                {
                                    "FOGLALAS_PK": "1034",
                                    "UGYFEL_FK": "akos",
                                    "SZOBA_FK": "127",
                                    "METTOL": "2016-09-06",
                                    "MEDDIG": "2016-09-12",
                                    "FELNOTT_SZAM": "1",
                                    "GYERMEK_SZAM": "0",
                                    "NEV": "Bíró Ákos",
                                    "eLŐZŐ HÁROM FOGLALÁS ÁTLAGA": "1",
                                    "összfő": "1"
                                },
                                {
                                    "FOGLALAS_PK": "705",
                                    "UGYFEL_FK": "akos",
                                    "SZOBA_FK": "37",
                                    "METTOL": "2016-07-22",
                                    "MEDDIG": "2016-07-26",
                                    "FELNOTT_SZAM": "1",
                                    "GYERMEK_SZAM": "0",
                                    "NEV": "Bíró Ákos",
                                    "eLŐZŐ HÁROM FOGLALÁS ÁTLAGA": "1",
                                    "összfő": "1"
                                },
                                {
                                    "FOGLALAS_PK": "648",
                                    "UGYFEL_FK": "krisztina1",
                                    "SZOBA_FK": "157",
                                    "METTOL": "2016-05-16",
                                    "MEDDIG": "2016-05-20",
                                    "FELNOTT_SZAM": "1",
                                    "GYERMEK_SZAM": "0",
                                    "NEV": "Bori Krisztina",
                                    "eLŐZŐ HÁROM FOGLALÁS ÁTLAGA": "1",
                                    "összfő": "1"
                                },
                                {
                                    "FOGLALAS_PK": "1103",
                                    "UGYFEL_FK": "vivien3",
                                    "SZOBA_FK": "87",
                                    "METTOL": "2016-10-01",
                                    "MEDDIG": "2016-10-04",
                                    "FELNOTT_SZAM": "1",
                                    "GYERMEK_SZAM": "0",
                                    "NEV": "Boros Vivien",
                                    "eLŐZŐ HÁROM FOGLALÁS ÁTLAGA": "1",
                                    "összfő": "1"
                                },
                                {
                                    "FOGLALAS_PK": "1001",
                                    "UGYFEL_FK": "aniko4",
                                    "SZOBA_FK": "4",
                                    "METTOL": "2016-07-02",
                                    "MEDDIG": "2016-07-09",
                                    "FELNOTT_SZAM": "1",
                                    "GYERMEK_SZAM": "0",
                                    "NEV": "Böröcz Anikó",
                                    "eLŐZŐ HÁROM FOGLALÁS ÁTLAGA": "1",
                                    "összfő": "1"
                                },
                                {
                                    "FOGLALAS_PK": "787",
                                    "UGYFEL_FK": "krisztian4",
                                    "SZOBA_FK": "50",
                                    "METTOL": "2016-08-16",
                                    "MEDDIG": "2016-08-19",
                                    "FELNOTT_SZAM": "1",
                                    "GYERMEK_SZAM": "0",
                                    "NEV": "Czérna Krisztián",
                                    "eLŐZŐ HÁROM FOGLALÁS ÁTLAGA": "1",
                                    "összfő": "1"
                                },
                                {
                                    "FOGLALAS_PK": "834",
                                    "UGYFEL_FK": "krisztian4",
                                    "SZOBA_FK": "149",
                                    "METTOL": "2016-08-29",
                                    "MEDDIG": "2016-09-03",
                                    "FELNOTT_SZAM": "1",
                                    "GYERMEK_SZAM": "0",
                                    "NEV": "Czérna Krisztián",
                                    "eLŐZŐ HÁROM FOGLALÁS ÁTLAGA": "1",
                                    "összfő": "1"
                                },
                                {
                                    "FOGLALAS_PK": "1422",
                                    "UGYFEL_FK": "krisztian4",
                                    "SZOBA_FK": "182",
                                    "METTOL": "2017-01-06",
                                    "MEDDIG": "2017-01-09",
                                    "FELNOTT_SZAM": "1",
                                    "GYERMEK_SZAM": "0",
                                    "NEV": "Czérna Krisztián",
                                    "eLŐZŐ HÁROM FOGLALÁS ÁTLAGA": "1",
                                    "összfő": "1"
                                },
                                {
                                    "FOGLALAS_PK": "974",
                                    "UGYFEL_FK": "bertalan",
                                    "SZOBA_FK": "169",
                                    "METTOL": "2016-06-20",
                                    "MEDDIG": "2016-06-21",
                                    "FELNOTT_SZAM": "1",
                                    "GYERMEK_SZAM": "0",
                                    "NEV": "Csiger Bertalan",
                                    "eLŐZŐ HÁROM FOGLALÁS ÁTLAGA": "1",
                                    "összfő": "1"
                                },
                                {
                                    "FOGLALAS_PK": "1154",
                                    "UGYFEL_FK": "attila",
                                    "SZOBA_FK": "115",
                                    "METTOL": "2016-10-15",
                                    "MEDDIG": "2016-10-19",
                                    "FELNOTT_SZAM": "1",
                                    "GYERMEK_SZAM": "0",
                                    "NEV": "Csóti Attila",
                                    "eLŐZŐ HÁROM FOGLALÁS ÁTLAGA": "1",
                                    "összfő": "1"
                                },
                                {
                                    "FOGLALAS_PK": "651",
                                    "UGYFEL_FK": "aladar",
                                    "SZOBA_FK": "4",
                                    "METTOL": "2016-05-17",
                                    "MEDDIG": "2016-05-24",
                                    "FELNOTT_SZAM": "1",
                                    "GYERMEK_SZAM": "0",
                                    "NEV": "Dunai Aladár",
                                    "eLŐZŐ HÁROM FOGLALÁS ÁTLAGA": "1",
                                    "összfő": "1"
                                },
                                {
                                    "FOGLALAS_PK": "1079",
                                    "UGYFEL_FK": "aladar",
                                    "SZOBA_FK": "86",
                                    "METTOL": "2016-09-24",
                                    "MEDDIG": "2016-09-28",
                                    "FELNOTT_SZAM": "1",
                                    "GYERMEK_SZAM": "0",
                                    "NEV": "Dunai Aladár",
                                    "eLŐZŐ HÁROM FOGLALÁS ÁTLAGA": "1",
                                    "összfő": "1"
                                },
                                {
                                    "FOGLALAS_PK": "600",
                                    "UGYFEL_FK": "ANDRASE",
                                    "SZOBA_FK": "190",
                                    "METTOL": "2016-04-24",
                                    "MEDDIG": "2016-05-01",
                                    "FELNOTT_SZAM": "1",
                                    "GYERMEK_SZAM": "0",
                                    "NEV": "Erdei András",
                                    "eLŐZŐ HÁROM FOGLALÁS ÁTLAGA": "1",
                                    "összfő": "1"
                                },
                                {
                                    "FOGLALAS_PK": "1350",
                                    "UGYFEL_FK": "BELAF",
                                    "SZOBA_FK": "173",
                                    "METTOL": "2016-12-06",
                                    "MEDDIG": "2016-12-09",
                                    "FELNOTT_SZAM": "1",
                                    "GYERMEK_SZAM": "0",
                                    "NEV": "Farkas Béla",
                                    "eLŐZŐ HÁROM FOGLALÁS ÁTLAGA": "1",
                                    "összfő": "1"
                                },
                                {
                                    "FOGLALAS_PK": "858",
                                    "UGYFEL_FK": "sandor3",
                                    "SZOBA_FK": "121",
                                    "METTOL": "2016-05-25",
                                    "MEDDIG": "2016-05-30",
                                    "FELNOTT_SZAM": "1",
                                    "GYERMEK_SZAM": "0",
                                    "NEV": "Farkas Sándor",
                                    "eLŐZŐ HÁROM FOGLALÁS ÁTLAGA": "1",
                                    "összfő": "1"
                                },
                                {
                                    "FOGLALAS_PK": "1351",
                                    "UGYFEL_FK": "sara",
                                    "SZOBA_FK": "38",
                                    "METTOL": "2016-12-06",
                                    "MEDDIG": "2016-12-10",
                                    "FELNOTT_SZAM": "1",
                                    "GYERMEK_SZAM": "0",
                                    "NEV": "Farkas Sára",
                                    "eLŐZŐ HÁROM FOGLALÁS ÁTLAGA": "1",
                                    "összfő": "1"
                                },
                                {
                                    "FOGLALAS_PK": "1338",
                                    "UGYFEL_FK": "TAMASF",
                                    "SZOBA_FK": "145",
                                    "METTOL": "2016-12-02",
                                    "MEDDIG": "2016-12-04",
                                    "FELNOTT_SZAM": "1",
                                    "GYERMEK_SZAM": "0",
                                    "NEV": "Fényes Tamás",
                                    "eLŐZŐ HÁROM FOGLALÁS ÁTLAGA": "1",
                                    "összfő": "1"
                                },
                                {
                                    "FOGLALAS_PK": "1384",
                                    "UGYFEL_FK": "roland1",
                                    "SZOBA_FK": "84",
                                    "METTOL": "2016-12-22",
                                    "MEDDIG": "2016-12-29",
                                    "FELNOTT_SZAM": "1",
                                    "GYERMEK_SZAM": "0",
                                    "NEV": "Ferencz Roland",
                                    "eLŐZŐ HÁROM FOGLALÁS ÁTLAGA": "1",
                                    "összfő": "1"
                                },
                                {
                                    "FOGLALAS_PK": "709",
                                    "UGYFEL_FK": "valentin",
                                    "SZOBA_FK": "172",
                                    "METTOL": "2016-07-24",
                                    "MEDDIG": "2016-07-29",
                                    "FELNOTT_SZAM": "1",
                                    "GYERMEK_SZAM": "0",
                                    "NEV": "Feró Valentin",
                                    "eLŐZŐ HÁROM FOGLALÁS ÁTLAGA": "1",
                                    "összfő": "1"
                                },
                                {
                                    "FOGLALAS_PK": "1366",
                                    "UGYFEL_FK": "fruzsina4",
                                    "SZOBA_FK": "81",
                                    "METTOL": "2016-12-16",
                                    "MEDDIG": "2016-12-21",
                                    "FELNOTT_SZAM": "1",
                                    "GYERMEK_SZAM": "0",
                                    "NEV": "Frank Fruzsina",
                                    "eLŐZŐ HÁROM FOGLALÁS ÁTLAGA": "1",
                                    "összfő": "1"
                                },
                                {
                                    "FOGLALAS_PK": "631",
                                    "UGYFEL_FK": "JANOSG",
                                    "SZOBA_FK": "98",
                                    "METTOL": "2016-05-09",
                                    "MEDDIG": "2016-05-15",
                                    "FELNOTT_SZAM": "1",
                                    "GYERMEK_SZAM": "0",
                                    "NEV": "Giliga János",
                                    "eLŐZŐ HÁROM FOGLALÁS ÁTLAGA": "1",
                                    "összfő": "1"
                                },
                                {
                                    "FOGLALAS_PK": "1251",
                                    "UGYFEL_FK": "tibor",
                                    "SZOBA_FK": "184",
                                    "METTOL": "2016-11-05",
                                    "MEDDIG": "2016-11-09",
                                    "FELNOTT_SZAM": "1",
                                    "GYERMEK_SZAM": "0",
                                    "NEV": "Gombos Tibor",
                                    "eLŐZŐ HÁROM FOGLALÁS ÁTLAGA": "1",
                                    "összfő": "1"
                                },
                                {
                                    "FOGLALAS_PK": "601",
                                    "UGYFEL_FK": "kata",
                                    "SZOBA_FK": "39",
                                    "METTOL": "2016-04-25",
                                    "MEDDIG": "2016-05-01",
                                    "FELNOTT_SZAM": "1",
                                    "GYERMEK_SZAM": "0",
                                    "NEV": "Gondos Katalin",
                                    "eLŐZŐ HÁROM FOGLALÁS ÁTLAGA": "1",
                                    "összfő": "1"
                                },
                                {
                                    "FOGLALAS_PK": "1006",
                                    "UGYFEL_FK": "kata",
                                    "SZOBA_FK": "70",
                                    "METTOL": "2016-07-03",
                                    "MEDDIG": "2016-07-06",
                                    "FELNOTT_SZAM": "1",
                                    "GYERMEK_SZAM": "0",
                                    "NEV": "Gondos Katalin",
                                    "eLŐZŐ HÁROM FOGLALÁS ÁTLAGA": "1",
                                    "összfő": "1"
                                },
                                {
                                    "FOGLALAS_PK": "1134",
                                    "UGYFEL_FK": "miklos2",
                                    "SZOBA_FK": "126",
                                    "METTOL": "2016-10-08",
                                    "MEDDIG": "2016-10-09",
                                    "FELNOTT_SZAM": "1",
                                    "GYERMEK_SZAM": "0",
                                    "NEV": "Gondos Miklós",
                                    "eLŐZŐ HÁROM FOGLALÁS ÁTLAGA": "1",
                                    "összfő": "1"
                                },
                                {
                                    "FOGLALAS_PK": "657",
                                    "UGYFEL_FK": "attila1",
                                    "SZOBA_FK": "137",
                                    "METTOL": "2016-05-20",
                                    "MEDDIG": "2016-05-26",
                                    "FELNOTT_SZAM": "1",
                                    "GYERMEK_SZAM": "0",
                                    "NEV": "Gulyás Attila",
                                    "eLŐZŐ HÁROM FOGLALÁS ÁTLAGA": "1",
                                    "összfő": "1"
                                },
                                {
                                    "FOGLALAS_PK": "935",
                                    "UGYFEL_FK": "KRISZTINAG",
                                    "SZOBA_FK": "56",
                                    "METTOL": "2016-06-08",
                                    "MEDDIG": "2016-06-12",
                                    "FELNOTT_SZAM": "1",
                                    "GYERMEK_SZAM": "0",
                                    "NEV": "Gyárfás Krisztina",
                                    "eLŐZŐ HÁROM FOGLALÁS ÁTLAGA": "1",
                                    "összfő": "1"
                                },
                                {
                                    "FOGLALAS_PK": "854",
                                    "UGYFEL_FK": "KRISZTINAG",
                                    "SZOBA_FK": "167",
                                    "METTOL": "2016-05-24",
                                    "MEDDIG": "2016-05-31",
                                    "FELNOTT_SZAM": "1",
                                    "GYERMEK_SZAM": "0",
                                    "NEV": "Gyárfás Krisztina",
                                    "eLŐZŐ HÁROM FOGLALÁS ÁTLAGA": "1",
                                    "összfő": "1"
                                },
                                {
                                    "FOGLALAS_PK": "872",
                                    "UGYFEL_FK": "bence",
                                    "SZOBA_FK": "28",
                                    "METTOL": "2016-05-29",
                                    "MEDDIG": "2016-06-03",
                                    "FELNOTT_SZAM": "1",
                                    "GYERMEK_SZAM": "0",
                                    "NEV": "Győrffy Bence",
                                    "eLŐZŐ HÁROM FOGLALÁS ÁTLAGA": "1",
                                    "összfő": "1"
                                },
                                {
                                    "FOGLALAS_PK": "852",
                                    "UGYFEL_FK": "JOZSEFG",
                                    "SZOBA_FK": "24",
                                    "METTOL": "2016-05-23",
                                    "MEDDIG": "2016-05-25",
                                    "FELNOTT_SZAM": "1",
                                    "GYERMEK_SZAM": "0",
                                    "NEV": "Gyuris József",
                                    "eLŐZŐ HÁROM FOGLALÁS ÁTLAGA": "1",
                                    "összfő": "1"
                                },
                                {
                                    "FOGLALAS_PK": "1461",
                                    "UGYFEL_FK": "JOZSEFG",
                                    "SZOBA_FK": "77",
                                    "METTOL": "2017-01-22",
                                    "MEDDIG": "2017-01-26",
                                    "FELNOTT_SZAM": "1",
                                    "GYERMEK_SZAM": "0",
                                    "NEV": "Gyuris József",
                                    "eLŐZŐ HÁROM FOGLALÁS ÁTLAGA": "1",
                                    "összfő": "1"
                                },
                                {
                                    "FOGLALAS_PK": "904",
                                    "UGYFEL_FK": "janos3",
                                    "SZOBA_FK": "34",
                                    "METTOL": "2016-06-04",
                                    "MEDDIG": "2016-06-06",
                                    "FELNOTT_SZAM": "1",
                                    "GYERMEK_SZAM": "0",
                                    "NEV": "Harangozó János",
                                    "eLŐZŐ HÁROM FOGLALÁS ÁTLAGA": "1",
                                    "összfő": "1"
                                },
                                {
                                    "FOGLALAS_PK": "1177",
                                    "UGYFEL_FK": "janos3",
                                    "SZOBA_FK": "150",
                                    "METTOL": "2016-10-22",
                                    "MEDDIG": "2016-10-23",
                                    "FELNOTT_SZAM": "1",
                                    "GYERMEK_SZAM": "0",
                                    "NEV": "Harangozó János",
                                    "eLŐZŐ HÁROM FOGLALÁS ÁTLAGA": "1",
                                    "összfő": "1"
                                },
                                {
                                    "FOGLALAS_PK": "755",
                                    "UGYFEL_FK": "agnes3",
                                    "SZOBA_FK": "20",
                                    "METTOL": "2016-08-04",
                                    "MEDDIG": "2016-08-10",
                                    "FELNOTT_SZAM": "1",
                                    "GYERMEK_SZAM": "0",
                                    "NEV": "Hartyánszky Ágnes",
                                    "eLŐZŐ HÁROM FOGLALÁS ÁTLAGA": "1",
                                    "összfő": "1"
                                },
                                {
                                    "FOGLALAS_PK": "782",
                                    "UGYFEL_FK": "norbert2",
                                    "SZOBA_FK": "163",
                                    "METTOL": "2016-08-16",
                                    "MEDDIG": "2016-08-19",
                                    "FELNOTT_SZAM": "1",
                                    "GYERMEK_SZAM": "0",
                                    "NEV": "Hegedűs Norbert",
                                    "eLŐZŐ HÁROM FOGLALÁS ÁTLAGA": "1",
                                    "összfő": "1"
                                },
                                {
                                    "FOGLALAS_PK": "587",
                                    "UGYFEL_FK": "norbert2",
                                    "SZOBA_FK": "123",
                                    "METTOL": "2016-04-19",
                                    "MEDDIG": "2016-04-26",
                                    "FELNOTT_SZAM": "1",
                                    "GYERMEK_SZAM": "0",
                                    "NEV": "Hegedűs Norbert",
                                    "eLŐZŐ HÁROM FOGLALÁS ÁTLAGA": "1",
                                    "összfő": "1"
                                },
                                {
                                    "FOGLALAS_PK": "1379",
                                    "UGYFEL_FK": "JUDITH",
                                    "SZOBA_FK": "83",
                                    "METTOL": "2016-12-19",
                                    "MEDDIG": "2016-12-26",
                                    "FELNOTT_SZAM": "1",
                                    "GYERMEK_SZAM": "0",
                                    "NEV": "Hídasi Judit",
                                    "eLŐZŐ HÁROM FOGLALÁS ÁTLAGA": "1",
                                    "összfő": "1"
                                },
                                {
                                    "FOGLALAS_PK": "980",
                                    "UGYFEL_FK": "AGNESH",
                                    "SZOBA_FK": "143",
                                    "METTOL": "2016-06-23",
                                    "MEDDIG": "2016-06-26",
                                    "FELNOTT_SZAM": "1",
                                    "GYERMEK_SZAM": "0",
                                    "NEV": "Horváth Ágnes",
                                    "eLŐZŐ HÁROM FOGLALÁS ÁTLAGA": "1",
                                    "összfő": "1"
                                },
                                {
                                    "FOGLALAS_PK": "1225",
                                    "UGYFEL_FK": "AGNESH",
                                    "SZOBA_FK": "69",
                                    "METTOL": "2016-10-30",
                                    "MEDDIG": "2016-11-04",
                                    "FELNOTT_SZAM": "1",
                                    "GYERMEK_SZAM": "0",
                                    "NEV": "Horváth Ágnes",
                                    "eLŐZŐ HÁROM FOGLALÁS ÁTLAGA": "1",
                                    "összfő": "1"
                                },
                                {
                                    "FOGLALAS_PK": "1066",
                                    "UGYFEL_FK": "ARPADH",
                                    "SZOBA_FK": "49",
                                    "METTOL": "2016-09-18",
                                    "MEDDIG": "2016-09-25",
                                    "FELNOTT_SZAM": "1",
                                    "GYERMEK_SZAM": "0",
                                    "NEV": "Horváth Árpád",
                                    "eLŐZŐ HÁROM FOGLALÁS ÁTLAGA": "1",
                                    "összfő": "1"
                                },
                                {
                                    "FOGLALAS_PK": "1056",
                                    "UGYFEL_FK": "ARPADH",
                                    "SZOBA_FK": "47",
                                    "METTOL": "2016-09-16",
                                    "MEDDIG": "2016-09-23",
                                    "FELNOTT_SZAM": "1",
                                    "GYERMEK_SZAM": "0",
                                    "NEV": "Horváth Árpád",
                                    "eLŐZŐ HÁROM FOGLALÁS ÁTLAGA": "1",
                                    "összfő": "1"
                                },
                                {
                                    "FOGLALAS_PK": "1342",
                                    "UGYFEL_FK": "ARPADH",
                                    "SZOBA_FK": "170",
                                    "METTOL": "2016-12-04",
                                    "MEDDIG": "2016-12-10",
                                    "FELNOTT_SZAM": "1",
                                    "GYERMEK_SZAM": "0",
                                    "NEV": "Horváth Árpád",
                                    "eLŐZŐ HÁROM FOGLALÁS ÁTLAGA": "1",
                                    "összfő": "1"
                                },
                                {
                                    "FOGLALAS_PK": "1015",
                                    "UGYFEL_FK": "katalin",
                                    "SZOBA_FK": "174",
                                    "METTOL": "2016-07-06",
                                    "MEDDIG": "2016-07-11",
                                    "FELNOTT_SZAM": "1",
                                    "GYERMEK_SZAM": "0",
                                    "NEV": "Horváth Katalin",
                                    "eLŐZŐ HÁROM FOGLALÁS ÁTLAGA": "1",
                                    "összfő": "1"
                                },
                                {
                                    "FOGLALAS_PK": "661",
                                    "UGYFEL_FK": "katalin",
                                    "SZOBA_FK": "136",
                                    "METTOL": "2016-05-21",
                                    "MEDDIG": "2016-05-26",
                                    "FELNOTT_SZAM": "1",
                                    "GYERMEK_SZAM": "0",
                                    "NEV": "Horváth Katalin",
                                    "eLŐZŐ HÁROM FOGLALÁS ÁTLAGA": "1",
                                    "összfő": "1"
                                },
                                {
                                    "FOGLALAS_PK": "733",
                                    "UGYFEL_FK": "katalin",
                                    "SZOBA_FK": "140",
                                    "METTOL": "2016-07-28",
                                    "MEDDIG": "2016-07-29",
                                    "FELNOTT_SZAM": "1",
                                    "GYERMEK_SZAM": "0",
                                    "NEV": "Horváth Katalin",
                                    "eLŐZŐ HÁROM FOGLALÁS ÁTLAGA": "1",
                                    "összfő": "1"
                                },
                                {
                                    "FOGLALAS_PK": "1372",
                                    "UGYFEL_FK": "katalin",
                                    "SZOBA_FK": "106",
                                    "METTOL": "2016-12-17",
                                    "MEDDIG": "2016-12-24",
                                    "FELNOTT_SZAM": "1",
                                    "GYERMEK_SZAM": "0",
                                    "NEV": "Horváth Katalin",
                                    "eLŐZŐ HÁROM FOGLALÁS ÁTLAGA": "1",
                                    "összfő": "1"
                                },
                                {
                                    "FOGLALAS_PK": "897",
                                    "UGYFEL_FK": "nikolett3",
                                    "SZOBA_FK": "165",
                                    "METTOL": "2016-06-03",
                                    "MEDDIG": "2016-06-09",
                                    "FELNOTT_SZAM": "1",
                                    "GYERMEK_SZAM": "0",
                                    "NEV": "Horváth Nikolett",
                                    "eLŐZŐ HÁROM FOGLALÁS ÁTLAGA": "1",
                                    "összfő": "1"
                                },
                                {
                                    "FOGLALAS_PK": "976",
                                    "UGYFEL_FK": "nikolett3",
                                    "SZOBA_FK": "76",
                                    "METTOL": "2016-06-22",
                                    "MEDDIG": "2016-06-24",
                                    "FELNOTT_SZAM": "1",
                                    "GYERMEK_SZAM": "0",
                                    "NEV": "Horváth Nikolett",
                                    "eLŐZŐ HÁROM FOGLALÁS ÁTLAGA": "1",
                                    "összfő": "1"
                                },
                                {
                                    "FOGLALAS_PK": "1186",
                                    "UGYFEL_FK": "ROBERTI",
                                    "SZOBA_FK": "58",
                                    "METTOL": "2016-10-23",
                                    "MEDDIG": "2016-10-29",
                                    "FELNOTT_SZAM": "1",
                                    "GYERMEK_SZAM": "0",
                                    "NEV": "Iván Róbert",
                                    "eLŐZŐ HÁROM FOGLALÁS ÁTLAGA": "1",
                                    "összfő": "1"
                                },
                                {
                                    "FOGLALAS_PK": "867",
                                    "UGYFEL_FK": "ZSOLTJ",
                                    "SZOBA_FK": "175",
                                    "METTOL": "2016-05-28",
                                    "MEDDIG": "2016-06-03",
                                    "FELNOTT_SZAM": "1",
                                    "GYERMEK_SZAM": "0",
                                    "NEV": "Józsa Zsolt",
                                    "eLŐZŐ HÁROM FOGLALÁS ÁTLAGA": "1",
                                    "összfő": "1"
                                },
                                {
                                    "FOGLALAS_PK": "990",
                                    "UGYFEL_FK": "MIHALYJ",
                                    "SZOBA_FK": "6",
                                    "METTOL": "2016-06-27",
                                    "MEDDIG": "2016-07-01",
                                    "FELNOTT_SZAM": "1",
                                    "GYERMEK_SZAM": "0",
                                    "NEV": "Juhász Mihály",
                                    "eLŐZŐ HÁROM FOGLALÁS ÁTLAGA": "1",
                                    "összfő": "1"
                                },
                                {
                                    "FOGLALAS_PK": "839",
                                    "UGYFEL_FK": "MIHALYJ",
                                    "SZOBA_FK": "172",
                                    "METTOL": "2016-08-29",
                                    "MEDDIG": "2016-09-03",
                                    "FELNOTT_SZAM": "1",
                                    "GYERMEK_SZAM": "0",
                                    "NEV": "Juhász Mihály",
                                    "eLŐZŐ HÁROM FOGLALÁS ÁTLAGA": "1",
                                    "összfő": "1"
                                },
                                {
                                    "FOGLALAS_PK": "620",
                                    "UGYFEL_FK": "marton",
                                    "SZOBA_FK": "1",
                                    "METTOL": "2016-05-05",
                                    "MEDDIG": "2016-05-10",
                                    "FELNOTT_SZAM": "1",
                                    "GYERMEK_SZAM": "0",
                                    "NEV": "Kalacsi Márton",
                                    "eLŐZŐ HÁROM FOGLALÁS ÁTLAGA": "1",
                                    "összfő": "1"
                                },
                                {
                                    "FOGLALAS_PK": "1312",
                                    "UGYFEL_FK": "RENATAK",
                                    "SZOBA_FK": "94",
                                    "METTOL": "2016-11-23",
                                    "MEDDIG": "2016-11-26",
                                    "FELNOTT_SZAM": "1",
                                    "GYERMEK_SZAM": "0",
                                    "NEV": "Kardos Renáta",
                                    "eLŐZŐ HÁROM FOGLALÁS ÁTLAGA": "1",
                                    "összfő": "1"
                                },
                                {
                                    "FOGLALAS_PK": "1224",
                                    "UGYFEL_FK": "RENATAK",
                                    "SZOBA_FK": "50",
                                    "METTOL": "2016-10-30",
                                    "MEDDIG": "2016-10-31",
                                    "FELNOTT_SZAM": "1",
                                    "GYERMEK_SZAM": "0",
                                    "NEV": "Kardos Renáta",
                                    "eLŐZŐ HÁROM FOGLALÁS ÁTLAGA": "1",
                                    "összfő": "1"
                                },
                                {
                                    "FOGLALAS_PK": "1543",
                                    "UGYFEL_FK": "RENATAK",
                                    "SZOBA_FK": "95",
                                    "METTOL": "2017-02-16",
                                    "MEDDIG": "2017-02-23",
                                    "FELNOTT_SZAM": "1",
                                    "GYERMEK_SZAM": "0",
                                    "NEV": "Kardos Renáta",
                                    "eLŐZŐ HÁROM FOGLALÁS ÁTLAGA": "1",
                                    "összfő": "1"
                                },
                                {
                                    "FOGLALAS_PK": "1581",
                                    "UGYFEL_FK": "RENATAK",
                                    "SZOBA_FK": "48",
                                    "METTOL": "2017-03-01",
                                    "MEDDIG": "2017-03-06",
                                    "FELNOTT_SZAM": "1",
                                    "GYERMEK_SZAM": "0",
                                    "NEV": "Kardos Renáta",
                                    "eLŐZŐ HÁROM FOGLALÁS ÁTLAGA": "1",
                                    "összfő": "1"
                                },
                                {
                                    "FOGLALAS_PK": "881",
                                    "UGYFEL_FK": "tihamer",
                                    "SZOBA_FK": "131",
                                    "METTOL": "2016-05-30",
                                    "MEDDIG": "2016-06-05",
                                    "FELNOTT_SZAM": "1",
                                    "GYERMEK_SZAM": "0",
                                    "NEV": "Kazy Tihamér",
                                    "eLŐZŐ HÁROM FOGLALÁS ÁTLAGA": "1",
                                    "összfő": "1"
                                },
                                {
                                    "FOGLALAS_PK": "997",
                                    "UGYFEL_FK": "katalin4",
                                    "SZOBA_FK": "82",
                                    "METTOL": "2016-07-01",
                                    "MEDDIG": "2016-07-07",
                                    "FELNOTT_SZAM": "1",
                                    "GYERMEK_SZAM": "0",
                                    "NEV": "Kertész Katalin",
                                    "eLŐZŐ HÁROM FOGLALÁS ÁTLAGA": "1",
                                    "összfő": "1"
                                },
                                {
                                    "FOGLALAS_PK": "1172",
                                    "UGYFEL_FK": "mark",
                                    "SZOBA_FK": "197",
                                    "METTOL": "2016-10-20",
                                    "MEDDIG": "2016-10-27",
                                    "FELNOTT_SZAM": "1",
                                    "GYERMEK_SZAM": "0",
                                    "NEV": "Kispál Márk",
                                    "eLŐZŐ HÁROM FOGLALÁS ÁTLAGA": "1",
                                    "összfő": "1"
                                },
                                {
                                    "FOGLALAS_PK": "803",
                                    "UGYFEL_FK": "adam1",
                                    "SZOBA_FK": "1",
                                    "METTOL": "2016-08-20",
                                    "MEDDIG": "2016-08-24",
                                    "FELNOTT_SZAM": "1",
                                    "GYERMEK_SZAM": "0",
                                    "NEV": "Kiss Ádám",
                                    "eLŐZŐ HÁROM FOGLALÁS ÁTLAGA": "1",
                                    "összfő": "1"
                                },
                                {
                                    "FOGLALAS_PK": "1523",
                                    "UGYFEL_FK": "lajos",
                                    "SZOBA_FK": "11",
                                    "METTOL": "2017-02-12",
                                    "MEDDIG": "2017-02-13",
                                    "FELNOTT_SZAM": "1",
                                    "GYERMEK_SZAM": "0",
                                    "NEV": "Kiss Lajos",
                                    "eLŐZŐ HÁROM FOGLALÁS ÁTLAGA": "1",
                                    "összfő": "1"
                                },
                                {
                                    "FOGLALAS_PK": "799",
                                    "UGYFEL_FK": "andras41",
                                    "SZOBA_FK": "175",
                                    "METTOL": "2016-08-19",
                                    "MEDDIG": "2016-08-23",
                                    "FELNOTT_SZAM": "1",
                                    "GYERMEK_SZAM": "0",
                                    "NEV": "Komjáti András",
                                    "eLŐZŐ HÁROM FOGLALÁS ÁTLAGA": "1",
                                    "összfő": "1"
                                },
                                {
                                    "FOGLALAS_PK": "1308",
                                    "UGYFEL_FK": "andras41",
                                    "SZOBA_FK": "182",
                                    "METTOL": "2016-11-23",
                                    "MEDDIG": "2016-11-24",
                                    "FELNOTT_SZAM": "1",
                                    "GYERMEK_SZAM": "0",
                                    "NEV": "Komjáti András",
                                    "eLŐZŐ HÁROM FOGLALÁS ÁTLAGA": "1",
                                    "összfő": "1"
                                },
                                {
                                    "FOGLALAS_PK": "1074",
                                    "UGYFEL_FK": "andras41",
                                    "SZOBA_FK": "195",
                                    "METTOL": "2016-09-22",
                                    "MEDDIG": "2016-09-29",
                                    "FELNOTT_SZAM": "1",
                                    "GYERMEK_SZAM": "0",
                                    "NEV": "Komjáti András",
                                    "eLŐZŐ HÁROM FOGLALÁS ÁTLAGA": "1",
                                    "összfő": "1"
                                },
                                {
                                    "FOGLALAS_PK": "945",
                                    "UGYFEL_FK": "GYONGYIK",
                                    "SZOBA_FK": "23",
                                    "METTOL": "2016-06-10",
                                    "MEDDIG": "2016-06-17",
                                    "FELNOTT_SZAM": "1",
                                    "GYERMEK_SZAM": "0",
                                    "NEV": "Kornseé Gyöngyi",
                                    "eLŐZŐ HÁROM FOGLALÁS ÁTLAGA": "1",
                                    "összfő": "1"
                                },
                                {
                                    "FOGLALAS_PK": "1367",
                                    "UGYFEL_FK": "bernadett2",
                                    "SZOBA_FK": "80",
                                    "METTOL": "2016-12-17",
                                    "MEDDIG": "2016-12-20",
                                    "FELNOTT_SZAM": "1",
                                    "GYERMEK_SZAM": "0",
                                    "NEV": "Kovács Bernadett",
                                    "eLŐZŐ HÁROM FOGLALÁS ÁTLAGA": "1",
                                    "összfő": "1"
                                },
                                {
                                    "FOGLALAS_PK": "954",
                                    "UGYFEL_FK": "katka",
                                    "SZOBA_FK": "84",
                                    "METTOL": "2016-06-13",
                                    "MEDDIG": "2016-06-18",
                                    "FELNOTT_SZAM": "1",
                                    "GYERMEK_SZAM": "0",
                                    "NEV": "Kovács Katalin",
                                    "eLŐZŐ HÁROM FOGLALÁS ÁTLAGA": "1",
                                    "összfő": "1"
                                },
                                {
                                    "FOGLALAS_PK": "1026",
                                    "UGYFEL_FK": "gabor1",
                                    "SZOBA_FK": "119",
                                    "METTOL": "2016-07-12",
                                    "MEDDIG": "2016-07-15",
                                    "FELNOTT_SZAM": "1",
                                    "GYERMEK_SZAM": "0",
                                    "NEV": "Köves Gábor",
                                    "eLŐZŐ HÁROM FOGLALÁS ÁTLAGA": "1",
                                    "összfő": "1"
                                },
                                {
                                    "FOGLALAS_PK": "1169",
                                    "UGYFEL_FK": "gabor1",
                                    "SZOBA_FK": "93",
                                    "METTOL": "2016-10-20",
                                    "MEDDIG": "2016-10-24",
                                    "FELNOTT_SZAM": "1",
                                    "GYERMEK_SZAM": "0",
                                    "NEV": "Köves Gábor",
                                    "eLŐZŐ HÁROM FOGLALÁS ÁTLAGA": "1",
                                    "összfő": "1"
                                },
                                {
                                    "FOGLALAS_PK": "1250",
                                    "UGYFEL_FK": "emese",
                                    "SZOBA_FK": "107",
                                    "METTOL": "2016-11-05",
                                    "MEDDIG": "2016-11-09",
                                    "FELNOTT_SZAM": "1",
                                    "GYERMEK_SZAM": "0",
                                    "NEV": "Kuruc Emese",
                                    "eLŐZŐ HÁROM FOGLALÁS ÁTLAGA": "1",
                                    "összfő": "1"
                                },
                                {
                                    "FOGLALAS_PK": "857",
                                    "UGYFEL_FK": "agnes",
                                    "SZOBA_FK": "165",
                                    "METTOL": "2016-05-25",
                                    "MEDDIG": "2016-05-30",
                                    "FELNOTT_SZAM": "1",
                                    "GYERMEK_SZAM": "0",
                                    "NEV": "Lengyel Ágnes",
                                    "eLŐZŐ HÁROM FOGLALÁS ÁTLAGA": "1",
                                    "összfő": "1"
                                },
                                {
                                    "FOGLALAS_PK": "955",
                                    "UGYFEL_FK": "andi",
                                    "SZOBA_FK": "47",
                                    "METTOL": "2016-06-13",
                                    "MEDDIG": "2016-06-14",
                                    "FELNOTT_SZAM": "1",
                                    "GYERMEK_SZAM": "0",
                                    "NEV": "Maródi Andrea",
                                    "eLŐZŐ HÁROM FOGLALÁS ÁTLAGA": "1",
                                    "összfő": "1"
                                },
                                {
                                    "FOGLALAS_PK": "1541",
                                    "UGYFEL_FK": "norbert4",
                                    "SZOBA_FK": "155",
                                    "METTOL": "2017-02-16",
                                    "MEDDIG": "2017-02-17",
                                    "FELNOTT_SZAM": "1",
                                    "GYERMEK_SZAM": "0",
                                    "NEV": "Mile Norbert",
                                    "eLŐZŐ HÁROM FOGLALÁS ÁTLAGA": "1",
                                    "összfő": "1"
                                },
                                {
                                    "FOGLALAS_PK": "1443",
                                    "UGYFEL_FK": "KRISZTIANM",
                                    "SZOBA_FK": "81",
                                    "METTOL": "2017-01-16",
                                    "MEDDIG": "2017-01-23",
                                    "FELNOTT_SZAM": "1",
                                    "GYERMEK_SZAM": "0",
                                    "NEV": "Mogyródi Krisztián",
                                    "eLŐZŐ HÁROM FOGLALÁS ÁTLAGA": "1",
                                    "összfő": "1"
                                },
                                {
                                    "FOGLALAS_PK": "1450",
                                    "UGYFEL_FK": "MONIKAM",
                                    "SZOBA_FK": "139",
                                    "METTOL": "2017-01-17",
                                    "MEDDIG": "2017-01-24",
                                    "FELNOTT_SZAM": "1",
                                    "GYERMEK_SZAM": "0",
                                    "NEV": "Mohos Mónika",
                                    "eLŐZŐ HÁROM FOGLALÁS ÁTLAGA": "1",
                                    "összfő": "1"
                                },
                                {
                                    "FOGLALAS_PK": "708",
                                    "UGYFEL_FK": "MONIKAM",
                                    "SZOBA_FK": "106",
                                    "METTOL": "2016-07-23",
                                    "MEDDIG": "2016-07-30",
                                    "FELNOTT_SZAM": "1",
                                    "GYERMEK_SZAM": "0",
                                    "NEV": "Mohos Mónika",
                                    "eLŐZŐ HÁROM FOGLALÁS ÁTLAGA": "1",
                                    "összfő": "1"
                                },
                                {
                                    "FOGLALAS_PK": "697",
                                    "UGYFEL_FK": "andras21",
                                    "SZOBA_FK": "12",
                                    "METTOL": "2016-07-20",
                                    "MEDDIG": "2016-07-22",
                                    "FELNOTT_SZAM": "1",
                                    "GYERMEK_SZAM": "0",
                                    "NEV": "Molnár András",
                                    "eLŐZŐ HÁROM FOGLALÁS ÁTLAGA": "1",
                                    "összfő": "1"
                                },
                                {
                                    "FOGLALAS_PK": "948",
                                    "UGYFEL_FK": "balint1",
                                    "SZOBA_FK": "19",
                                    "METTOL": "2016-06-10",
                                    "MEDDIG": "2016-06-12",
                                    "FELNOTT_SZAM": "1",
                                    "GYERMEK_SZAM": "0",
                                    "NEV": "Molnár Bálint",
                                    "eLŐZŐ HÁROM FOGLALÁS ÁTLAGA": "1",
                                    "összfő": "1"
                                },
                                {
                                    "FOGLALAS_PK": "1057",
                                    "UGYFEL_FK": "balint1",
                                    "SZOBA_FK": "86",
                                    "METTOL": "2016-09-16",
                                    "MEDDIG": "2016-09-21",
                                    "FELNOTT_SZAM": "1",
                                    "GYERMEK_SZAM": "0",
                                    "NEV": "Molnár Bálint",
                                    "eLŐZŐ HÁROM FOGLALÁS ÁTLAGA": "1",
                                    "összfő": "1"
                                },
                                {
                                    "FOGLALAS_PK": "1420",
                                    "UGYFEL_FK": "ARPADM",
                                    "SZOBA_FK": "198",
                                    "METTOL": "2017-01-05",
                                    "MEDDIG": "2017-01-10",
                                    "FELNOTT_SZAM": "1",
                                    "GYERMEK_SZAM": "0",
                                    "NEV": "Móricz Árpád",
                                    "eLŐZŐ HÁROM FOGLALÁS ÁTLAGA": "1",
                                    "összfő": "1"
                                },
                                {
                                    "FOGLALAS_PK": "818",
                                    "UGYFEL_FK": "henrik3",
                                    "SZOBA_FK": "8",
                                    "METTOL": "2016-08-24",
                                    "MEDDIG": "2016-08-28",
                                    "FELNOTT_SZAM": "1",
                                    "GYERMEK_SZAM": "0",
                                    "NEV": "Nádudvari Henrik",
                                    "eLŐZŐ HÁROM FOGLALÁS ÁTLAGA": "1",
                                    "összfő": "1"
                                },
                                {
                                    "FOGLALAS_PK": "1258",
                                    "UGYFEL_FK": "julia4",
                                    "SZOBA_FK": "52",
                                    "METTOL": "2016-11-07",
                                    "MEDDIG": "2016-11-12",
                                    "FELNOTT_SZAM": "1",
                                    "GYERMEK_SZAM": "0",
                                    "NEV": "Nagy Júlia",
                                    "eLŐZŐ HÁROM FOGLALÁS ÁTLAGA": "1",
                                    "összfő": "1"
                                },
                                {
                                    "FOGLALAS_PK": "892",
                                    "UGYFEL_FK": "LASZLON",
                                    "SZOBA_FK": "165",
                                    "METTOL": "2016-06-03",
                                    "MEDDIG": "2016-06-06",
                                    "FELNOTT_SZAM": "1",
                                    "GYERMEK_SZAM": "0",
                                    "NEV": "Nagy László",
                                    "eLŐZŐ HÁROM FOGLALÁS ÁTLAGA": "1",
                                    "összfő": "1"
                                },
                                {
                                    "FOGLALAS_PK": "1329",
                                    "UGYFEL_FK": "LASZLON",
                                    "SZOBA_FK": "171",
                                    "METTOL": "2016-11-29",
                                    "MEDDIG": "2016-12-04",
                                    "FELNOTT_SZAM": "1",
                                    "GYERMEK_SZAM": "0",
                                    "NEV": "Nagy László",
                                    "eLŐZŐ HÁROM FOGLALÁS ÁTLAGA": "1",
                                    "összfő": "1"
                                },
                                {
                                    "FOGLALAS_PK": "1136",
                                    "UGYFEL_FK": "LASZLON",
                                    "SZOBA_FK": "30",
                                    "METTOL": "2016-10-09",
                                    "MEDDIG": "2016-10-14",
                                    "FELNOTT_SZAM": "1",
                                    "GYERMEK_SZAM": "0",
                                    "NEV": "Nagy László",
                                    "eLŐZŐ HÁROM FOGLALÁS ÁTLAGA": "1",
                                    "összfő": "1"
                                },
                                {
                                    "FOGLALAS_PK": "1339",
                                    "UGYFEL_FK": "sandor4",
                                    "SZOBA_FK": "120",
                                    "METTOL": "2016-12-03",
                                    "MEDDIG": "2016-12-09",
                                    "FELNOTT_SZAM": "1",
                                    "GYERMEK_SZAM": "0",
                                    "NEV": "Nagy Sándor",
                                    "eLŐZŐ HÁROM FOGLALÁS ÁTLAGA": "1",
                                    "összfő": "1"
                                },
                                {
                                    "FOGLALAS_PK": "1156",
                                    "UGYFEL_FK": "sandor4",
                                    "SZOBA_FK": "140",
                                    "METTOL": "2016-10-15",
                                    "MEDDIG": "2016-10-18",
                                    "FELNOTT_SZAM": "1",
                                    "GYERMEK_SZAM": "0",
                                    "NEV": "Nagy Sándor",
                                    "eLŐZŐ HÁROM FOGLALÁS ÁTLAGA": "1",
                                    "összfő": "1"
                                },
                                {
                                    "FOGLALAS_PK": "860",
                                    "UGYFEL_FK": "andrea4",
                                    "SZOBA_FK": "70",
                                    "METTOL": "2016-05-27",
                                    "MEDDIG": "2016-05-29",
                                    "FELNOTT_SZAM": "1",
                                    "GYERMEK_SZAM": "0",
                                    "NEV": "Neizer Andrea",
                                    "eLŐZŐ HÁROM FOGLALÁS ÁTLAGA": "1",
                                    "összfő": "1"
                                },
                                {
                                    "FOGLALAS_PK": "1213",
                                    "UGYFEL_FK": "GYORGYO",
                                    "SZOBA_FK": "91",
                                    "METTOL": "2016-10-28",
                                    "MEDDIG": "2016-10-31",
                                    "FELNOTT_SZAM": "1",
                                    "GYERMEK_SZAM": "0",
                                    "NEV": "Oroszi György",
                                    "eLŐZŐ HÁROM FOGLALÁS ÁTLAGA": "1",
                                    "összfő": "1"
                                },
                                {
                                    "FOGLALAS_PK": "1374",
                                    "UGYFEL_FK": "robert2",
                                    "SZOBA_FK": "118",
                                    "METTOL": "2016-12-17",
                                    "MEDDIG": "2016-12-22",
                                    "FELNOTT_SZAM": "1",
                                    "GYERMEK_SZAM": "0",
                                    "NEV": "Patay Róbert",
                                    "eLŐZŐ HÁROM FOGLALÁS ÁTLAGA": "1",
                                    "összfő": "1"
                                },
                                {
                                    "FOGLALAS_PK": "845",
                                    "UGYFEL_FK": "eva2",
                                    "SZOBA_FK": "63",
                                    "METTOL": "2016-09-02",
                                    "MEDDIG": "2016-09-03",
                                    "FELNOTT_SZAM": "1",
                                    "GYERMEK_SZAM": "0",
                                    "NEV": "Perlinger Éva",
                                    "eLŐZŐ HÁROM FOGLALÁS ÁTLAGA": "1",
                                    "összfő": "1"
                                },
                                {
                                    "FOGLALAS_PK": "567",
                                    "UGYFEL_FK": "anett3",
                                    "SZOBA_FK": "170",
                                    "METTOL": "2016-04-10",
                                    "MEDDIG": "2016-04-17",
                                    "FELNOTT_SZAM": "1",
                                    "GYERMEK_SZAM": "0",
                                    "NEV": "Pivarcsi Anett",
                                    "eLŐZŐ HÁROM FOGLALÁS ÁTLAGA": "1",
                                    "összfő": "1"
                                },
                                {
                                    "FOGLALAS_PK": "1159",
                                    "UGYFEL_FK": "anett3",
                                    "SZOBA_FK": "73",
                                    "METTOL": "2016-10-16",
                                    "MEDDIG": "2016-10-21",
                                    "FELNOTT_SZAM": "1",
                                    "GYERMEK_SZAM": "0",
                                    "NEV": "Pivarcsi Anett",
                                    "eLŐZŐ HÁROM FOGLALÁS ÁTLAGA": "1",
                                    "összfő": "1"
                                },
                                {
                                    "FOGLALAS_PK": "1430",
                                    "UGYFEL_FK": "daniel",
                                    "SZOBA_FK": "12",
                                    "METTOL": "2017-01-09",
                                    "MEDDIG": "2017-01-11",
                                    "FELNOTT_SZAM": "1",
                                    "GYERMEK_SZAM": "0",
                                    "NEV": "Rácz Dániel",
                                    "eLŐZŐ HÁROM FOGLALÁS ÁTLAGA": "1",
                                    "összfő": "1"
                                },
                                {
                                    "FOGLALAS_PK": "684",
                                    "UGYFEL_FK": "ANNAMARIAR",
                                    "SZOBA_FK": "184",
                                    "METTOL": "2016-07-18",
                                    "MEDDIG": "2016-07-21",
                                    "FELNOTT_SZAM": "1",
                                    "GYERMEK_SZAM": "0",
                                    "NEV": "Regős Annamária",
                                    "eLŐZŐ HÁROM FOGLALÁS ÁTLAGA": "1",
                                    "összfő": "1"
                                },
                                {
                                    "FOGLALAS_PK": "965",
                                    "UGYFEL_FK": "ANIKOS",
                                    "SZOBA_FK": "5",
                                    "METTOL": "2016-06-16",
                                    "MEDDIG": "2016-06-23",
                                    "FELNOTT_SZAM": "1",
                                    "GYERMEK_SZAM": "0",
                                    "NEV": "Simon Anikó",
                                    "eLŐZŐ HÁROM FOGLALÁS ÁTLAGA": "1",
                                    "összfő": "1"
                                },
                                {
                                    "FOGLALAS_PK": "1568",
                                    "UGYFEL_FK": "bernadett1",
                                    "SZOBA_FK": "29",
                                    "METTOL": "2017-02-24",
                                    "MEDDIG": "2017-03-03",
                                    "FELNOTT_SZAM": "1",
                                    "GYERMEK_SZAM": "0",
                                    "NEV": "Simon Bernadett",
                                    "eLŐZŐ HÁROM FOGLALÁS ÁTLAGA": "1",
                                    "összfő": "1"
                                },
                                {
                                    "FOGLALAS_PK": "1434",
                                    "UGYFEL_FK": "peter3",
                                    "SZOBA_FK": "3",
                                    "METTOL": "2017-01-12",
                                    "MEDDIG": "2017-01-17",
                                    "FELNOTT_SZAM": "1",
                                    "GYERMEK_SZAM": "0",
                                    "NEV": "Szalai Péter",
                                    "eLŐZŐ HÁROM FOGLALÁS ÁTLAGA": "1",
                                    "összfő": "1"
                                },
                                {
                                    "FOGLALAS_PK": "1396",
                                    "UGYFEL_FK": "peter3",
                                    "SZOBA_FK": "72",
                                    "METTOL": "2016-12-25",
                                    "MEDDIG": "2016-12-28",
                                    "FELNOTT_SZAM": "1",
                                    "GYERMEK_SZAM": "0",
                                    "NEV": "Szalai Péter",
                                    "eLŐZŐ HÁROM FOGLALÁS ÁTLAGA": "1",
                                    "összfő": "1"
                                },
                                {
                                    "FOGLALAS_PK": "1508",
                                    "UGYFEL_FK": "SZILARDS",
                                    "SZOBA_FK": "191",
                                    "METTOL": "2017-02-08",
                                    "MEDDIG": "2017-02-15",
                                    "FELNOTT_SZAM": "1",
                                    "GYERMEK_SZAM": "0",
                                    "NEV": "Szalai Szilárd",
                                    "eLŐZŐ HÁROM FOGLALÁS ÁTLAGA": "1",
                                    "összfő": "1"
                                },
                                {
                                    "FOGLALAS_PK": "1306",
                                    "UGYFEL_FK": "krisztina",
                                    "SZOBA_FK": "133",
                                    "METTOL": "2016-11-22",
                                    "MEDDIG": "2016-11-25",
                                    "FELNOTT_SZAM": "1",
                                    "GYERMEK_SZAM": "0",
                                    "NEV": "Szedlár Krisztina",
                                    "eLŐZŐ HÁROM FOGLALÁS ÁTLAGA": "1",
                                    "összfő": "1"
                                },
                                {
                                    "FOGLALAS_PK": "1048",
                                    "UGYFEL_FK": "krisztina",
                                    "SZOBA_FK": "95",
                                    "METTOL": "2016-09-13",
                                    "MEDDIG": "2016-09-16",
                                    "FELNOTT_SZAM": "1",
                                    "GYERMEK_SZAM": "0",
                                    "NEV": "Szedlár Krisztina",
                                    "eLŐZŐ HÁROM FOGLALÁS ÁTLAGA": "1",
                                    "összfő": "1"
                                },
                                {
                                    "FOGLALAS_PK": "1469",
                                    "UGYFEL_FK": "brigitta",
                                    "SZOBA_FK": "13",
                                    "METTOL": "2017-01-23",
                                    "MEDDIG": "2017-01-25",
                                    "FELNOTT_SZAM": "1",
                                    "GYERMEK_SZAM": "0",
                                    "NEV": "Székely Brigitta",
                                    "eLŐZŐ HÁROM FOGLALÁS ÁTLAGA": "1",
                                    "összfő": "1"
                                },
                                {
                                    "FOGLALAS_PK": "586",
                                    "UGYFEL_FK": "BEATRIXS",
                                    "SZOBA_FK": "107",
                                    "METTOL": "2016-04-18",
                                    "MEDDIG": "2016-04-24",
                                    "FELNOTT_SZAM": "1",
                                    "GYERMEK_SZAM": "0",
                                    "NEV": "Szekendi Beatrix",
                                    "eLŐZŐ HÁROM FOGLALÁS ÁTLAGA": "1",
                                    "összfő": "1"
                                },
                                {
                                    "FOGLALAS_PK": "891",
                                    "UGYFEL_FK": "MATYASS",
                                    "SZOBA_FK": "63",
                                    "METTOL": "2016-06-02",
                                    "MEDDIG": "2016-06-08",
                                    "FELNOTT_SZAM": "1",
                                    "GYERMEK_SZAM": "0",
                                    "NEV": "Szilágyi Mátyás",
                                    "eLŐZŐ HÁROM FOGLALÁS ÁTLAGA": "1",
                                    "összfő": "1"
                                },
                                {
                                    "FOGLALAS_PK": "1190",
                                    "UGYFEL_FK": "MATYASS",
                                    "SZOBA_FK": "161",
                                    "METTOL": "2016-10-24",
                                    "MEDDIG": "2016-10-31",
                                    "FELNOTT_SZAM": "1",
                                    "GYERMEK_SZAM": "0",
                                    "NEV": "Szilágyi Mátyás",
                                    "eLŐZŐ HÁROM FOGLALÁS ÁTLAGA": "1",
                                    "összfő": "1"
                                },
                                {
                                    "FOGLALAS_PK": "1529",
                                    "UGYFEL_FK": "RENATAS",
                                    "SZOBA_FK": "35",
                                    "METTOL": "2017-02-13",
                                    "MEDDIG": "2017-02-17",
                                    "FELNOTT_SZAM": "1",
                                    "GYERMEK_SZAM": "0",
                                    "NEV": "Szirmai Renáta",
                                    "eLŐZŐ HÁROM FOGLALÁS ÁTLAGA": "1",
                                    "összfő": "1"
                                },
                                {
                                    "FOGLALAS_PK": "1578",
                                    "UGYFEL_FK": "balazs2",
                                    "SZOBA_FK": "148",
                                    "METTOL": "2017-02-27",
                                    "MEDDIG": "2017-03-06",
                                    "FELNOTT_SZAM": "1",
                                    "GYERMEK_SZAM": "0",
                                    "NEV": "Szűcs Balázs",
                                    "eLŐZŐ HÁROM FOGLALÁS ÁTLAGA": "1",
                                    "összfő": "1"
                                },
                                {
                                    "FOGLALAS_PK": "1018",
                                    "UGYFEL_FK": "norbert",
                                    "SZOBA_FK": "40",
                                    "METTOL": "2016-07-08",
                                    "MEDDIG": "2016-07-13",
                                    "FELNOTT_SZAM": "1",
                                    "GYERMEK_SZAM": "0",
                                    "NEV": "Szűcs Norbert",
                                    "eLŐZŐ HÁROM FOGLALÁS ÁTLAGA": "1",
                                    "összfő": "1"
                                },
                                {
                                    "FOGLALAS_PK": "1576",
                                    "UGYFEL_FK": "norbert",
                                    "SZOBA_FK": "189",
                                    "METTOL": "2017-02-26",
                                    "MEDDIG": "2017-03-01",
                                    "FELNOTT_SZAM": "1",
                                    "GYERMEK_SZAM": "0",
                                    "NEV": "Szűcs Norbert",
                                    "eLŐZŐ HÁROM FOGLALÁS ÁTLAGA": "1",
                                    "összfő": "1"
                                },
                                {
                                    "FOGLALAS_PK": "790",
                                    "UGYFEL_FK": "veronika4",
                                    "SZOBA_FK": "10",
                                    "METTOL": "2016-08-16",
                                    "MEDDIG": "2016-08-21",
                                    "FELNOTT_SZAM": "1",
                                    "GYERMEK_SZAM": "0",
                                    "NEV": "Tankó Veronika",
                                    "eLŐZŐ HÁROM FOGLALÁS ÁTLAGA": "1",
                                    "összfő": "1"
                                },
                                {
                                    "FOGLALAS_PK": "878",
                                    "UGYFEL_FK": "gabor4",
                                    "SZOBA_FK": "83",
                                    "METTOL": "2016-05-30",
                                    "MEDDIG": "2016-06-05",
                                    "FELNOTT_SZAM": "1",
                                    "GYERMEK_SZAM": "0",
                                    "NEV": "Telek Gábor",
                                    "eLŐZŐ HÁROM FOGLALÁS ÁTLAGA": "1",
                                    "összfő": "1"
                                },
                                {
                                    "FOGLALAS_PK": "884",
                                    "UGYFEL_FK": "andras2",
                                    "SZOBA_FK": "98",
                                    "METTOL": "2016-05-30",
                                    "MEDDIG": "2016-06-04",
                                    "FELNOTT_SZAM": "1",
                                    "GYERMEK_SZAM": "0",
                                    "NEV": "Tóth András",
                                    "eLŐZŐ HÁROM FOGLALÁS ÁTLAGA": "1",
                                    "összfő": "1"
                                },
                                {
                                    "FOGLALAS_PK": "638",
                                    "UGYFEL_FK": "julia",
                                    "SZOBA_FK": "67",
                                    "METTOL": "2016-05-12",
                                    "MEDDIG": "2016-05-17",
                                    "FELNOTT_SZAM": "1",
                                    "GYERMEK_SZAM": "0",
                                    "NEV": "Tóth Júlia",
                                    "eLŐZŐ HÁROM FOGLALÁS ÁTLAGA": "1",
                                    "összfő": "1"
                                },
                                {
                                    "FOGLALAS_PK": "669",
                                    "UGYFEL_FK": "tunde",
                                    "SZOBA_FK": "173",
                                    "METTOL": "2016-07-14",
                                    "MEDDIG": "2016-07-21",
                                    "FELNOTT_SZAM": "1",
                                    "GYERMEK_SZAM": "0",
                                    "NEV": "Turcsik Tünde",
                                    "eLŐZŐ HÁROM FOGLALÁS ÁTLAGA": "1",
                                    "összfő": "1"
                                },
                                {
                                    "FOGLALAS_PK": "610",
                                    "UGYFEL_FK": "VIKTORIAU",
                                    "SZOBA_FK": "106",
                                    "METTOL": "2016-04-30",
                                    "MEDDIG": "2016-05-03",
                                    "FELNOTT_SZAM": "1",
                                    "GYERMEK_SZAM": "0",
                                    "NEV": "Urbán Viktoria",
                                    "eLŐZŐ HÁROM FOGLALÁS ÁTLAGA": "1",
                                    "összfő": "1"
                                },
                                {
                                    "FOGLALAS_PK": "1202",
                                    "UGYFEL_FK": "ZSUZSAV",
                                    "SZOBA_FK": "52",
                                    "METTOL": "2016-10-26",
                                    "MEDDIG": "2016-10-28",
                                    "FELNOTT_SZAM": "1",
                                    "GYERMEK_SZAM": "0",
                                    "NEV": "Vajda Zsuzsa",
                                    "eLŐZŐ HÁROM FOGLALÁS ÁTLAGA": "1",
                                    "összfő": "1"
                                },
                                {
                                    "FOGLALAS_PK": "880",
                                    "UGYFEL_FK": "andras3",
                                    "SZOBA_FK": "184",
                                    "METTOL": "2016-05-30",
                                    "MEDDIG": "2016-06-03",
                                    "FELNOTT_SZAM": "1",
                                    "GYERMEK_SZAM": "0",
                                    "NEV": "Vígh András",
                                    "eLŐZŐ HÁROM FOGLALÁS ÁTLAGA": "1",
                                    "összfő": "1"
                                },
                                {
                                    "FOGLALAS_PK": "949",
                                    "UGYFEL_FK": "andras3",
                                    "SZOBA_FK": "1",
                                    "METTOL": "2016-06-10",
                                    "MEDDIG": "2016-06-11",
                                    "FELNOTT_SZAM": "1",
                                    "GYERMEK_SZAM": "0",
                                    "NEV": "Vígh András",
                                    "eLŐZŐ HÁROM FOGLALÁS ÁTLAGA": "1",
                                    "összfő": "1"
                                },
                                {
                                    "FOGLALAS_PK": "689",
                                    "UGYFEL_FK": "istvan1",
                                    "SZOBA_FK": "102",
                                    "METTOL": "2016-07-19",
                                    "MEDDIG": "2016-07-24",
                                    "FELNOTT_SZAM": "1",
                                    "GYERMEK_SZAM": "0",
                                    "NEV": "Vizi István",
                                    "eLŐZŐ HÁROM FOGLALÁS ÁTLAGA": "1",
                                    "összfő": "1"
                                },
                                {
                                    "FOGLALAS_PK": "1466",
                                    "UGYFEL_FK": "dani",
                                    "SZOBA_FK": "57",
                                    "METTOL": "2017-01-22",
                                    "MEDDIG": "2017-01-29",
                                    "FELNOTT_SZAM": "1",
                                    "GYERMEK_SZAM": "0",
                                    "NEV": "Vörös Dániel",
                                    "eLŐZŐ HÁROM FOGLALÁS ÁTLAGA": "1",
                                    "összfő": "1"
                                },
                                {
                                    "FOGLALAS_PK": "1102",
                                    "UGYFEL_FK": "dani",
                                    "SZOBA_FK": "108",
                                    "METTOL": "2016-10-01",
                                    "MEDDIG": "2016-10-02",
                                    "FELNOTT_SZAM": "1",
                                    "GYERMEK_SZAM": "0",
                                    "NEV": "Vörös Dániel",
                                    "eLŐZŐ HÁROM FOGLALÁS ÁTLAGA": "1",
                                    "összfő": "1"
                                },
                                {
                                    "FOGLALAS_PK": "702",
                                    "UGYFEL_FK": "balint2",
                                    "SZOBA_FK": "62",
                                    "METTOL": "2016-07-21",
                                    "MEDDIG": "2016-07-26",
                                    "FELNOTT_SZAM": "1",
                                    "GYERMEK_SZAM": "0",
                                    "NEV": "Vukasinovity Bálint",
                                    "eLŐZŐ HÁROM FOGLALÁS ÁTLAGA": "1",
                                    "összfő": "1"
                                }
                            ]
                        },
                        "text/html": [
                            "<table>",
                            "<tr><th>FOGLALAS_PK</th><th>UGYFEL_FK</th><th>SZOBA_FK</th><th>METTOL</th><th>MEDDIG</th><th>FELNOTT_SZAM</th><th>GYERMEK_SZAM</th><th>NEV</th><th>eLŐZŐ HÁROM FOGLALÁS ÁTLAGA</th><th>összfő</th></tr>",
                            "<tr><td>757</td><td>david</td><td>88</td><td>2016-08-05</td><td>2016-08-12</td><td>1</td><td>0</td><td>Ambrus Dávid</td><td>1</td><td>1</td></tr>",
                            "<tr><td>923</td><td>LASZLOA</td><td>123</td><td>2016-06-07</td><td>2016-06-11</td><td>1</td><td>0</td><td>Antal László</td><td>1</td><td>1</td></tr>",
                            "<tr><td>1005</td><td>beata4</td><td>22</td><td>2016-07-03</td><td>2016-07-06</td><td>1</td><td>0</td><td>Bagi Beáta</td><td>1</td><td>1</td></tr>",
                            "<tr><td>1112</td><td>beata4</td><td>155</td><td>2016-10-01</td><td>2016-10-05</td><td>1</td><td>0</td><td>Bagi Beáta</td><td>1</td><td>1</td></tr>",
                            "<tr><td>1436</td><td>alexandra</td><td>35</td><td>2017-01-13</td><td>2017-01-14</td><td>1</td><td>0</td><td>Bagóczki Alexandra</td><td>1</td><td>1</td></tr>",
                            "<tr><td>1187</td><td>eszter2</td><td>46</td><td>2016-10-23</td><td>2016-10-30</td><td>1</td><td>0</td><td>Balogh Eszter</td><td>1</td><td>1</td></tr>",
                            "<tr><td>1171</td><td>eszter2</td><td>172</td><td>2016-10-20</td><td>2016-10-25</td><td>1</td><td>0</td><td>Balogh Eszter</td><td>1</td><td>1</td></tr>",
                            "<tr><td>1109</td><td>eszter2</td><td>110</td><td>2016-10-01</td><td>2016-10-06</td><td>1</td><td>0</td><td>Balogh Eszter</td><td>1</td><td>1</td></tr>",
                            "<tr><td>1017</td><td>eszter2</td><td>190</td><td>2016-07-08</td><td>2016-07-09</td><td>1</td><td>0</td><td>Balogh Eszter</td><td>1</td><td>1</td></tr>",
                            "<tr><td>1480</td><td>eszter2</td><td>35</td><td>2016-12-29</td><td>2017-02-04</td><td>1</td><td>0</td><td>Balogh Eszter</td><td>1</td><td>1</td></tr>",
                            "<tr><td>1336</td><td>eszter2</td><td>172</td><td>2016-12-02</td><td>2016-12-07</td><td>1</td><td>0</td><td>Balogh Eszter</td><td>1</td><td>1</td></tr>",
                            "<tr><td>981</td><td>maria1</td><td>171</td><td>2016-06-23</td><td>2016-06-27</td><td>1</td><td>0</td><td>Baráth Mária</td><td>1</td><td>1</td></tr>",
                            "<tr><td>652</td><td>maria1</td><td>149</td><td>2016-05-18</td><td>2016-05-19</td><td>1</td><td>0</td><td>Baráth Mária</td><td>1</td><td>1</td></tr>",
                            "<tr><td>846</td><td>maria1</td><td>45</td><td>2016-09-02</td><td>2016-09-05</td><td>1</td><td>0</td><td>Baráth Mária</td><td>1</td><td>1</td></tr>",
                            "<tr><td>1504</td><td>adam3</td><td>57</td><td>2017-02-06</td><td>2017-02-10</td><td>1</td><td>0</td><td>Barkóci Ádám</td><td>1</td><td>1</td></tr>",
                            "<tr><td>1230</td><td>zoltan4</td><td>182</td><td>2016-10-30</td><td>2016-11-06</td><td>1</td><td>0</td><td>Barna Zoltán</td><td>1</td><td>1</td></tr>",
                            "<tr><td>1403</td><td>zoltan4</td><td>124</td><td>2016-12-29</td><td>2017-01-04</td><td>1</td><td>0</td><td>Barna Zoltán</td><td>1</td><td>1</td></tr>",
                            "<tr><td>779</td><td>zoltan4</td><td>130</td><td>2016-08-15</td><td>2016-08-21</td><td>1</td><td>0</td><td>Barna Zoltán</td><td>1</td><td>1</td></tr>",
                            "<tr><td>893</td><td>zoltan4</td><td>151</td><td>2016-06-03</td><td>2016-06-06</td><td>1</td><td>0</td><td>Barna Zoltán</td><td>1</td><td>1</td></tr>",
                            "<tr><td>1428</td><td>zsuzsanna</td><td>126</td><td>2017-01-09</td><td>2017-01-16</td><td>1</td><td>0</td><td>Barta Zsuzsanna</td><td>1</td><td>1</td></tr>",
                            "<tr><td>562</td><td>PETERB</td><td>7</td><td>2016-04-06</td><td>2016-04-10</td><td>1</td><td>0</td><td>Berendi Péter</td><td>1</td><td>1</td></tr>",
                            "<tr><td>781</td><td>PETERB</td><td>166</td><td>2016-08-16</td><td>2016-08-23</td><td>1</td><td>0</td><td>Berendi Péter</td><td>1</td><td>1</td></tr>",
                            "<tr><td>1252</td><td>norbert5</td><td>7</td><td>2016-11-05</td><td>2016-11-07</td><td>1</td><td>0</td><td>Béres Norbert</td><td>1</td><td>1</td></tr>",
                            "<tr><td>1034</td><td>akos</td><td>127</td><td>2016-09-06</td><td>2016-09-12</td><td>1</td><td>0</td><td>Bíró Ákos</td><td>1</td><td>1</td></tr>",
                            "<tr><td>705</td><td>akos</td><td>37</td><td>2016-07-22</td><td>2016-07-26</td><td>1</td><td>0</td><td>Bíró Ákos</td><td>1</td><td>1</td></tr>",
                            "<tr><td>648</td><td>krisztina1</td><td>157</td><td>2016-05-16</td><td>2016-05-20</td><td>1</td><td>0</td><td>Bori Krisztina</td><td>1</td><td>1</td></tr>",
                            "<tr><td>1103</td><td>vivien3</td><td>87</td><td>2016-10-01</td><td>2016-10-04</td><td>1</td><td>0</td><td>Boros Vivien</td><td>1</td><td>1</td></tr>",
                            "<tr><td>1001</td><td>aniko4</td><td>4</td><td>2016-07-02</td><td>2016-07-09</td><td>1</td><td>0</td><td>Böröcz Anikó</td><td>1</td><td>1</td></tr>",
                            "<tr><td>787</td><td>krisztian4</td><td>50</td><td>2016-08-16</td><td>2016-08-19</td><td>1</td><td>0</td><td>Czérna Krisztián</td><td>1</td><td>1</td></tr>",
                            "<tr><td>834</td><td>krisztian4</td><td>149</td><td>2016-08-29</td><td>2016-09-03</td><td>1</td><td>0</td><td>Czérna Krisztián</td><td>1</td><td>1</td></tr>",
                            "<tr><td>1422</td><td>krisztian4</td><td>182</td><td>2017-01-06</td><td>2017-01-09</td><td>1</td><td>0</td><td>Czérna Krisztián</td><td>1</td><td>1</td></tr>",
                            "<tr><td>974</td><td>bertalan</td><td>169</td><td>2016-06-20</td><td>2016-06-21</td><td>1</td><td>0</td><td>Csiger Bertalan</td><td>1</td><td>1</td></tr>",
                            "<tr><td>1154</td><td>attila</td><td>115</td><td>2016-10-15</td><td>2016-10-19</td><td>1</td><td>0</td><td>Csóti Attila</td><td>1</td><td>1</td></tr>",
                            "<tr><td>651</td><td>aladar</td><td>4</td><td>2016-05-17</td><td>2016-05-24</td><td>1</td><td>0</td><td>Dunai Aladár</td><td>1</td><td>1</td></tr>",
                            "<tr><td>1079</td><td>aladar</td><td>86</td><td>2016-09-24</td><td>2016-09-28</td><td>1</td><td>0</td><td>Dunai Aladár</td><td>1</td><td>1</td></tr>",
                            "<tr><td>600</td><td>ANDRASE</td><td>190</td><td>2016-04-24</td><td>2016-05-01</td><td>1</td><td>0</td><td>Erdei András</td><td>1</td><td>1</td></tr>",
                            "<tr><td>1350</td><td>BELAF</td><td>173</td><td>2016-12-06</td><td>2016-12-09</td><td>1</td><td>0</td><td>Farkas Béla</td><td>1</td><td>1</td></tr>",
                            "<tr><td>858</td><td>sandor3</td><td>121</td><td>2016-05-25</td><td>2016-05-30</td><td>1</td><td>0</td><td>Farkas Sándor</td><td>1</td><td>1</td></tr>",
                            "<tr><td>1351</td><td>sara</td><td>38</td><td>2016-12-06</td><td>2016-12-10</td><td>1</td><td>0</td><td>Farkas Sára</td><td>1</td><td>1</td></tr>",
                            "<tr><td>1338</td><td>TAMASF</td><td>145</td><td>2016-12-02</td><td>2016-12-04</td><td>1</td><td>0</td><td>Fényes Tamás</td><td>1</td><td>1</td></tr>",
                            "<tr><td>1384</td><td>roland1</td><td>84</td><td>2016-12-22</td><td>2016-12-29</td><td>1</td><td>0</td><td>Ferencz Roland</td><td>1</td><td>1</td></tr>",
                            "<tr><td>709</td><td>valentin</td><td>172</td><td>2016-07-24</td><td>2016-07-29</td><td>1</td><td>0</td><td>Feró Valentin</td><td>1</td><td>1</td></tr>",
                            "<tr><td>1366</td><td>fruzsina4</td><td>81</td><td>2016-12-16</td><td>2016-12-21</td><td>1</td><td>0</td><td>Frank Fruzsina</td><td>1</td><td>1</td></tr>",
                            "<tr><td>631</td><td>JANOSG</td><td>98</td><td>2016-05-09</td><td>2016-05-15</td><td>1</td><td>0</td><td>Giliga János</td><td>1</td><td>1</td></tr>",
                            "<tr><td>1251</td><td>tibor</td><td>184</td><td>2016-11-05</td><td>2016-11-09</td><td>1</td><td>0</td><td>Gombos Tibor</td><td>1</td><td>1</td></tr>",
                            "<tr><td>601</td><td>kata</td><td>39</td><td>2016-04-25</td><td>2016-05-01</td><td>1</td><td>0</td><td>Gondos Katalin</td><td>1</td><td>1</td></tr>",
                            "<tr><td>1006</td><td>kata</td><td>70</td><td>2016-07-03</td><td>2016-07-06</td><td>1</td><td>0</td><td>Gondos Katalin</td><td>1</td><td>1</td></tr>",
                            "<tr><td>1134</td><td>miklos2</td><td>126</td><td>2016-10-08</td><td>2016-10-09</td><td>1</td><td>0</td><td>Gondos Miklós</td><td>1</td><td>1</td></tr>",
                            "<tr><td>657</td><td>attila1</td><td>137</td><td>2016-05-20</td><td>2016-05-26</td><td>1</td><td>0</td><td>Gulyás Attila</td><td>1</td><td>1</td></tr>",
                            "<tr><td>935</td><td>KRISZTINAG</td><td>56</td><td>2016-06-08</td><td>2016-06-12</td><td>1</td><td>0</td><td>Gyárfás Krisztina</td><td>1</td><td>1</td></tr>",
                            "<tr><td>854</td><td>KRISZTINAG</td><td>167</td><td>2016-05-24</td><td>2016-05-31</td><td>1</td><td>0</td><td>Gyárfás Krisztina</td><td>1</td><td>1</td></tr>",
                            "<tr><td>872</td><td>bence</td><td>28</td><td>2016-05-29</td><td>2016-06-03</td><td>1</td><td>0</td><td>Győrffy Bence</td><td>1</td><td>1</td></tr>",
                            "<tr><td>852</td><td>JOZSEFG</td><td>24</td><td>2016-05-23</td><td>2016-05-25</td><td>1</td><td>0</td><td>Gyuris József</td><td>1</td><td>1</td></tr>",
                            "<tr><td>1461</td><td>JOZSEFG</td><td>77</td><td>2017-01-22</td><td>2017-01-26</td><td>1</td><td>0</td><td>Gyuris József</td><td>1</td><td>1</td></tr>",
                            "<tr><td>904</td><td>janos3</td><td>34</td><td>2016-06-04</td><td>2016-06-06</td><td>1</td><td>0</td><td>Harangozó János</td><td>1</td><td>1</td></tr>",
                            "<tr><td>1177</td><td>janos3</td><td>150</td><td>2016-10-22</td><td>2016-10-23</td><td>1</td><td>0</td><td>Harangozó János</td><td>1</td><td>1</td></tr>",
                            "<tr><td>755</td><td>agnes3</td><td>20</td><td>2016-08-04</td><td>2016-08-10</td><td>1</td><td>0</td><td>Hartyánszky Ágnes</td><td>1</td><td>1</td></tr>",
                            "<tr><td>782</td><td>norbert2</td><td>163</td><td>2016-08-16</td><td>2016-08-19</td><td>1</td><td>0</td><td>Hegedűs Norbert</td><td>1</td><td>1</td></tr>",
                            "<tr><td>587</td><td>norbert2</td><td>123</td><td>2016-04-19</td><td>2016-04-26</td><td>1</td><td>0</td><td>Hegedűs Norbert</td><td>1</td><td>1</td></tr>",
                            "<tr><td>1379</td><td>JUDITH</td><td>83</td><td>2016-12-19</td><td>2016-12-26</td><td>1</td><td>0</td><td>Hídasi Judit</td><td>1</td><td>1</td></tr>",
                            "<tr><td>980</td><td>AGNESH</td><td>143</td><td>2016-06-23</td><td>2016-06-26</td><td>1</td><td>0</td><td>Horváth Ágnes</td><td>1</td><td>1</td></tr>",
                            "<tr><td>1225</td><td>AGNESH</td><td>69</td><td>2016-10-30</td><td>2016-11-04</td><td>1</td><td>0</td><td>Horváth Ágnes</td><td>1</td><td>1</td></tr>",
                            "<tr><td>1066</td><td>ARPADH</td><td>49</td><td>2016-09-18</td><td>2016-09-25</td><td>1</td><td>0</td><td>Horváth Árpád</td><td>1</td><td>1</td></tr>",
                            "<tr><td>1056</td><td>ARPADH</td><td>47</td><td>2016-09-16</td><td>2016-09-23</td><td>1</td><td>0</td><td>Horváth Árpád</td><td>1</td><td>1</td></tr>",
                            "<tr><td>1342</td><td>ARPADH</td><td>170</td><td>2016-12-04</td><td>2016-12-10</td><td>1</td><td>0</td><td>Horváth Árpád</td><td>1</td><td>1</td></tr>",
                            "<tr><td>1015</td><td>katalin</td><td>174</td><td>2016-07-06</td><td>2016-07-11</td><td>1</td><td>0</td><td>Horváth Katalin</td><td>1</td><td>1</td></tr>",
                            "<tr><td>661</td><td>katalin</td><td>136</td><td>2016-05-21</td><td>2016-05-26</td><td>1</td><td>0</td><td>Horváth Katalin</td><td>1</td><td>1</td></tr>",
                            "<tr><td>733</td><td>katalin</td><td>140</td><td>2016-07-28</td><td>2016-07-29</td><td>1</td><td>0</td><td>Horváth Katalin</td><td>1</td><td>1</td></tr>",
                            "<tr><td>1372</td><td>katalin</td><td>106</td><td>2016-12-17</td><td>2016-12-24</td><td>1</td><td>0</td><td>Horváth Katalin</td><td>1</td><td>1</td></tr>",
                            "<tr><td>897</td><td>nikolett3</td><td>165</td><td>2016-06-03</td><td>2016-06-09</td><td>1</td><td>0</td><td>Horváth Nikolett</td><td>1</td><td>1</td></tr>",
                            "<tr><td>976</td><td>nikolett3</td><td>76</td><td>2016-06-22</td><td>2016-06-24</td><td>1</td><td>0</td><td>Horváth Nikolett</td><td>1</td><td>1</td></tr>",
                            "<tr><td>1186</td><td>ROBERTI</td><td>58</td><td>2016-10-23</td><td>2016-10-29</td><td>1</td><td>0</td><td>Iván Róbert</td><td>1</td><td>1</td></tr>",
                            "<tr><td>867</td><td>ZSOLTJ</td><td>175</td><td>2016-05-28</td><td>2016-06-03</td><td>1</td><td>0</td><td>Józsa Zsolt</td><td>1</td><td>1</td></tr>",
                            "<tr><td>990</td><td>MIHALYJ</td><td>6</td><td>2016-06-27</td><td>2016-07-01</td><td>1</td><td>0</td><td>Juhász Mihály</td><td>1</td><td>1</td></tr>",
                            "<tr><td>839</td><td>MIHALYJ</td><td>172</td><td>2016-08-29</td><td>2016-09-03</td><td>1</td><td>0</td><td>Juhász Mihály</td><td>1</td><td>1</td></tr>",
                            "<tr><td>620</td><td>marton</td><td>1</td><td>2016-05-05</td><td>2016-05-10</td><td>1</td><td>0</td><td>Kalacsi Márton</td><td>1</td><td>1</td></tr>",
                            "<tr><td>1312</td><td>RENATAK</td><td>94</td><td>2016-11-23</td><td>2016-11-26</td><td>1</td><td>0</td><td>Kardos Renáta</td><td>1</td><td>1</td></tr>",
                            "<tr><td>1224</td><td>RENATAK</td><td>50</td><td>2016-10-30</td><td>2016-10-31</td><td>1</td><td>0</td><td>Kardos Renáta</td><td>1</td><td>1</td></tr>",
                            "<tr><td>1543</td><td>RENATAK</td><td>95</td><td>2017-02-16</td><td>2017-02-23</td><td>1</td><td>0</td><td>Kardos Renáta</td><td>1</td><td>1</td></tr>",
                            "<tr><td>1581</td><td>RENATAK</td><td>48</td><td>2017-03-01</td><td>2017-03-06</td><td>1</td><td>0</td><td>Kardos Renáta</td><td>1</td><td>1</td></tr>",
                            "<tr><td>881</td><td>tihamer</td><td>131</td><td>2016-05-30</td><td>2016-06-05</td><td>1</td><td>0</td><td>Kazy Tihamér</td><td>1</td><td>1</td></tr>",
                            "<tr><td>997</td><td>katalin4</td><td>82</td><td>2016-07-01</td><td>2016-07-07</td><td>1</td><td>0</td><td>Kertész Katalin</td><td>1</td><td>1</td></tr>",
                            "<tr><td>1172</td><td>mark</td><td>197</td><td>2016-10-20</td><td>2016-10-27</td><td>1</td><td>0</td><td>Kispál Márk</td><td>1</td><td>1</td></tr>",
                            "<tr><td>803</td><td>adam1</td><td>1</td><td>2016-08-20</td><td>2016-08-24</td><td>1</td><td>0</td><td>Kiss Ádám</td><td>1</td><td>1</td></tr>",
                            "<tr><td>1523</td><td>lajos</td><td>11</td><td>2017-02-12</td><td>2017-02-13</td><td>1</td><td>0</td><td>Kiss Lajos</td><td>1</td><td>1</td></tr>",
                            "<tr><td>799</td><td>andras41</td><td>175</td><td>2016-08-19</td><td>2016-08-23</td><td>1</td><td>0</td><td>Komjáti András</td><td>1</td><td>1</td></tr>",
                            "<tr><td>1308</td><td>andras41</td><td>182</td><td>2016-11-23</td><td>2016-11-24</td><td>1</td><td>0</td><td>Komjáti András</td><td>1</td><td>1</td></tr>",
                            "<tr><td>1074</td><td>andras41</td><td>195</td><td>2016-09-22</td><td>2016-09-29</td><td>1</td><td>0</td><td>Komjáti András</td><td>1</td><td>1</td></tr>",
                            "<tr><td>945</td><td>GYONGYIK</td><td>23</td><td>2016-06-10</td><td>2016-06-17</td><td>1</td><td>0</td><td>Kornseé Gyöngyi</td><td>1</td><td>1</td></tr>",
                            "<tr><td>1367</td><td>bernadett2</td><td>80</td><td>2016-12-17</td><td>2016-12-20</td><td>1</td><td>0</td><td>Kovács Bernadett</td><td>1</td><td>1</td></tr>",
                            "<tr><td>954</td><td>katka</td><td>84</td><td>2016-06-13</td><td>2016-06-18</td><td>1</td><td>0</td><td>Kovács Katalin</td><td>1</td><td>1</td></tr>",
                            "<tr><td>1026</td><td>gabor1</td><td>119</td><td>2016-07-12</td><td>2016-07-15</td><td>1</td><td>0</td><td>Köves Gábor</td><td>1</td><td>1</td></tr>",
                            "<tr><td>1169</td><td>gabor1</td><td>93</td><td>2016-10-20</td><td>2016-10-24</td><td>1</td><td>0</td><td>Köves Gábor</td><td>1</td><td>1</td></tr>",
                            "<tr><td>1250</td><td>emese</td><td>107</td><td>2016-11-05</td><td>2016-11-09</td><td>1</td><td>0</td><td>Kuruc Emese</td><td>1</td><td>1</td></tr>",
                            "<tr><td>857</td><td>agnes</td><td>165</td><td>2016-05-25</td><td>2016-05-30</td><td>1</td><td>0</td><td>Lengyel Ágnes</td><td>1</td><td>1</td></tr>",
                            "<tr><td>955</td><td>andi</td><td>47</td><td>2016-06-13</td><td>2016-06-14</td><td>1</td><td>0</td><td>Maródi Andrea</td><td>1</td><td>1</td></tr>",
                            "<tr><td>1541</td><td>norbert4</td><td>155</td><td>2017-02-16</td><td>2017-02-17</td><td>1</td><td>0</td><td>Mile Norbert</td><td>1</td><td>1</td></tr>",
                            "<tr><td>1443</td><td>KRISZTIANM</td><td>81</td><td>2017-01-16</td><td>2017-01-23</td><td>1</td><td>0</td><td>Mogyródi Krisztián</td><td>1</td><td>1</td></tr>",
                            "<tr><td>1450</td><td>MONIKAM</td><td>139</td><td>2017-01-17</td><td>2017-01-24</td><td>1</td><td>0</td><td>Mohos Mónika</td><td>1</td><td>1</td></tr>",
                            "<tr><td>708</td><td>MONIKAM</td><td>106</td><td>2016-07-23</td><td>2016-07-30</td><td>1</td><td>0</td><td>Mohos Mónika</td><td>1</td><td>1</td></tr>",
                            "<tr><td>697</td><td>andras21</td><td>12</td><td>2016-07-20</td><td>2016-07-22</td><td>1</td><td>0</td><td>Molnár András</td><td>1</td><td>1</td></tr>",
                            "<tr><td>948</td><td>balint1</td><td>19</td><td>2016-06-10</td><td>2016-06-12</td><td>1</td><td>0</td><td>Molnár Bálint</td><td>1</td><td>1</td></tr>",
                            "<tr><td>1057</td><td>balint1</td><td>86</td><td>2016-09-16</td><td>2016-09-21</td><td>1</td><td>0</td><td>Molnár Bálint</td><td>1</td><td>1</td></tr>",
                            "<tr><td>1420</td><td>ARPADM</td><td>198</td><td>2017-01-05</td><td>2017-01-10</td><td>1</td><td>0</td><td>Móricz Árpád</td><td>1</td><td>1</td></tr>",
                            "<tr><td>818</td><td>henrik3</td><td>8</td><td>2016-08-24</td><td>2016-08-28</td><td>1</td><td>0</td><td>Nádudvari Henrik</td><td>1</td><td>1</td></tr>",
                            "<tr><td>1258</td><td>julia4</td><td>52</td><td>2016-11-07</td><td>2016-11-12</td><td>1</td><td>0</td><td>Nagy Júlia</td><td>1</td><td>1</td></tr>",
                            "<tr><td>892</td><td>LASZLON</td><td>165</td><td>2016-06-03</td><td>2016-06-06</td><td>1</td><td>0</td><td>Nagy László</td><td>1</td><td>1</td></tr>",
                            "<tr><td>1329</td><td>LASZLON</td><td>171</td><td>2016-11-29</td><td>2016-12-04</td><td>1</td><td>0</td><td>Nagy László</td><td>1</td><td>1</td></tr>",
                            "<tr><td>1136</td><td>LASZLON</td><td>30</td><td>2016-10-09</td><td>2016-10-14</td><td>1</td><td>0</td><td>Nagy László</td><td>1</td><td>1</td></tr>",
                            "<tr><td>1339</td><td>sandor4</td><td>120</td><td>2016-12-03</td><td>2016-12-09</td><td>1</td><td>0</td><td>Nagy Sándor</td><td>1</td><td>1</td></tr>",
                            "<tr><td>1156</td><td>sandor4</td><td>140</td><td>2016-10-15</td><td>2016-10-18</td><td>1</td><td>0</td><td>Nagy Sándor</td><td>1</td><td>1</td></tr>",
                            "<tr><td>860</td><td>andrea4</td><td>70</td><td>2016-05-27</td><td>2016-05-29</td><td>1</td><td>0</td><td>Neizer Andrea</td><td>1</td><td>1</td></tr>",
                            "<tr><td>1213</td><td>GYORGYO</td><td>91</td><td>2016-10-28</td><td>2016-10-31</td><td>1</td><td>0</td><td>Oroszi György</td><td>1</td><td>1</td></tr>",
                            "<tr><td>1374</td><td>robert2</td><td>118</td><td>2016-12-17</td><td>2016-12-22</td><td>1</td><td>0</td><td>Patay Róbert</td><td>1</td><td>1</td></tr>",
                            "<tr><td>845</td><td>eva2</td><td>63</td><td>2016-09-02</td><td>2016-09-03</td><td>1</td><td>0</td><td>Perlinger Éva</td><td>1</td><td>1</td></tr>",
                            "<tr><td>567</td><td>anett3</td><td>170</td><td>2016-04-10</td><td>2016-04-17</td><td>1</td><td>0</td><td>Pivarcsi Anett</td><td>1</td><td>1</td></tr>",
                            "<tr><td>1159</td><td>anett3</td><td>73</td><td>2016-10-16</td><td>2016-10-21</td><td>1</td><td>0</td><td>Pivarcsi Anett</td><td>1</td><td>1</td></tr>",
                            "<tr><td>1430</td><td>daniel</td><td>12</td><td>2017-01-09</td><td>2017-01-11</td><td>1</td><td>0</td><td>Rácz Dániel</td><td>1</td><td>1</td></tr>",
                            "<tr><td>684</td><td>ANNAMARIAR</td><td>184</td><td>2016-07-18</td><td>2016-07-21</td><td>1</td><td>0</td><td>Regős Annamária</td><td>1</td><td>1</td></tr>",
                            "<tr><td>965</td><td>ANIKOS</td><td>5</td><td>2016-06-16</td><td>2016-06-23</td><td>1</td><td>0</td><td>Simon Anikó</td><td>1</td><td>1</td></tr>",
                            "<tr><td>1568</td><td>bernadett1</td><td>29</td><td>2017-02-24</td><td>2017-03-03</td><td>1</td><td>0</td><td>Simon Bernadett</td><td>1</td><td>1</td></tr>",
                            "<tr><td>1434</td><td>peter3</td><td>3</td><td>2017-01-12</td><td>2017-01-17</td><td>1</td><td>0</td><td>Szalai Péter</td><td>1</td><td>1</td></tr>",
                            "<tr><td>1396</td><td>peter3</td><td>72</td><td>2016-12-25</td><td>2016-12-28</td><td>1</td><td>0</td><td>Szalai Péter</td><td>1</td><td>1</td></tr>",
                            "<tr><td>1508</td><td>SZILARDS</td><td>191</td><td>2017-02-08</td><td>2017-02-15</td><td>1</td><td>0</td><td>Szalai Szilárd</td><td>1</td><td>1</td></tr>",
                            "<tr><td>1306</td><td>krisztina</td><td>133</td><td>2016-11-22</td><td>2016-11-25</td><td>1</td><td>0</td><td>Szedlár Krisztina</td><td>1</td><td>1</td></tr>",
                            "<tr><td>1048</td><td>krisztina</td><td>95</td><td>2016-09-13</td><td>2016-09-16</td><td>1</td><td>0</td><td>Szedlár Krisztina</td><td>1</td><td>1</td></tr>",
                            "<tr><td>1469</td><td>brigitta</td><td>13</td><td>2017-01-23</td><td>2017-01-25</td><td>1</td><td>0</td><td>Székely Brigitta</td><td>1</td><td>1</td></tr>",
                            "<tr><td>586</td><td>BEATRIXS</td><td>107</td><td>2016-04-18</td><td>2016-04-24</td><td>1</td><td>0</td><td>Szekendi Beatrix</td><td>1</td><td>1</td></tr>",
                            "<tr><td>891</td><td>MATYASS</td><td>63</td><td>2016-06-02</td><td>2016-06-08</td><td>1</td><td>0</td><td>Szilágyi Mátyás</td><td>1</td><td>1</td></tr>",
                            "<tr><td>1190</td><td>MATYASS</td><td>161</td><td>2016-10-24</td><td>2016-10-31</td><td>1</td><td>0</td><td>Szilágyi Mátyás</td><td>1</td><td>1</td></tr>",
                            "<tr><td>1529</td><td>RENATAS</td><td>35</td><td>2017-02-13</td><td>2017-02-17</td><td>1</td><td>0</td><td>Szirmai Renáta</td><td>1</td><td>1</td></tr>",
                            "<tr><td>1578</td><td>balazs2</td><td>148</td><td>2017-02-27</td><td>2017-03-06</td><td>1</td><td>0</td><td>Szűcs Balázs</td><td>1</td><td>1</td></tr>",
                            "<tr><td>1018</td><td>norbert</td><td>40</td><td>2016-07-08</td><td>2016-07-13</td><td>1</td><td>0</td><td>Szűcs Norbert</td><td>1</td><td>1</td></tr>",
                            "<tr><td>1576</td><td>norbert</td><td>189</td><td>2017-02-26</td><td>2017-03-01</td><td>1</td><td>0</td><td>Szűcs Norbert</td><td>1</td><td>1</td></tr>",
                            "<tr><td>790</td><td>veronika4</td><td>10</td><td>2016-08-16</td><td>2016-08-21</td><td>1</td><td>0</td><td>Tankó Veronika</td><td>1</td><td>1</td></tr>",
                            "<tr><td>878</td><td>gabor4</td><td>83</td><td>2016-05-30</td><td>2016-06-05</td><td>1</td><td>0</td><td>Telek Gábor</td><td>1</td><td>1</td></tr>",
                            "<tr><td>884</td><td>andras2</td><td>98</td><td>2016-05-30</td><td>2016-06-04</td><td>1</td><td>0</td><td>Tóth András</td><td>1</td><td>1</td></tr>",
                            "<tr><td>638</td><td>julia</td><td>67</td><td>2016-05-12</td><td>2016-05-17</td><td>1</td><td>0</td><td>Tóth Júlia</td><td>1</td><td>1</td></tr>",
                            "<tr><td>669</td><td>tunde</td><td>173</td><td>2016-07-14</td><td>2016-07-21</td><td>1</td><td>0</td><td>Turcsik Tünde</td><td>1</td><td>1</td></tr>",
                            "<tr><td>610</td><td>VIKTORIAU</td><td>106</td><td>2016-04-30</td><td>2016-05-03</td><td>1</td><td>0</td><td>Urbán Viktoria</td><td>1</td><td>1</td></tr>",
                            "<tr><td>1202</td><td>ZSUZSAV</td><td>52</td><td>2016-10-26</td><td>2016-10-28</td><td>1</td><td>0</td><td>Vajda Zsuzsa</td><td>1</td><td>1</td></tr>",
                            "<tr><td>880</td><td>andras3</td><td>184</td><td>2016-05-30</td><td>2016-06-03</td><td>1</td><td>0</td><td>Vígh András</td><td>1</td><td>1</td></tr>",
                            "<tr><td>949</td><td>andras3</td><td>1</td><td>2016-06-10</td><td>2016-06-11</td><td>1</td><td>0</td><td>Vígh András</td><td>1</td><td>1</td></tr>",
                            "<tr><td>689</td><td>istvan1</td><td>102</td><td>2016-07-19</td><td>2016-07-24</td><td>1</td><td>0</td><td>Vizi István</td><td>1</td><td>1</td></tr>",
                            "<tr><td>1466</td><td>dani</td><td>57</td><td>2017-01-22</td><td>2017-01-29</td><td>1</td><td>0</td><td>Vörös Dániel</td><td>1</td><td>1</td></tr>",
                            "<tr><td>1102</td><td>dani</td><td>108</td><td>2016-10-01</td><td>2016-10-02</td><td>1</td><td>0</td><td>Vörös Dániel</td><td>1</td><td>1</td></tr>",
                            "<tr><td>702</td><td>balint2</td><td>62</td><td>2016-07-21</td><td>2016-07-26</td><td>1</td><td>0</td><td>Vukasinovity Bálint</td><td>1</td><td>1</td></tr>",
                            "</table>"
                        ]
                    }
                }
            ],
            "execution_count": 37
        }
    ]
}