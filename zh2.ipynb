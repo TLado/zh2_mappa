{
    "metadata": {
        "kernelspec": {
            "name": "SQL",
            "display_name": "SQL",
            "language": "sql"
        },
        "language_info": {
            "name": "sql",
            "version": ""
        }
    },
    "nbformat_minor": 2,
    "nbformat": 4,
    "cells": [
        {
            "cell_type": "markdown",
            "source": [
                ""
            ],
            "metadata": {
                "azdata_cell_guid": "6510f580-90f1-4b8c-8af8-0bcfbdc9400c"
            }
        },
        {
            "cell_type": "code",
            "source": [
                ""
            ],
            "metadata": {
                "azdata_cell_guid": "3f30f433-e527-4278-a430-c652630802d1",
                "language": "sql"
            },
            "outputs": [],
            "execution_count": null
        }
    ]
}